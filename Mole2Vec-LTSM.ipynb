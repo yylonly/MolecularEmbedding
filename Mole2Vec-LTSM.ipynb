{
 "cells": [
  {
   "cell_type": "code",
   "execution_count": 1,
   "metadata": {},
   "outputs": [
    {
     "name": "stderr",
     "output_type": "stream",
     "text": [
      "/Applications/conda/anaconda3/lib/python3.6/site-packages/h5py/__init__.py:34: FutureWarning: Conversion of the second argument of issubdtype from `float` to `np.floating` is deprecated. In future, it will be treated as `np.float64 == np.dtype(float).type`.\n",
      "  from ._conv import register_converters as _register_converters\n",
      "Using TensorFlow backend.\n"
     ]
    }
   ],
   "source": [
    "import numpy as np\n",
    "import pandas as pd\n",
    "from utils import *\n",
    "import random\n",
    "from rdkit import Chem\n",
    "from rdkit.Chem import AllChem\n",
    "from rdkit.Chem import Draw\n",
    "import matplotlib.pyplot as plt\n",
    "from keras.preprocessing.sequence import pad_sequences\n",
    "from keras.preprocessing.text import Tokenizer\n",
    "from scipy import stats\n",
    "\n",
    "from keras.models import load_model, Model\n",
    "from keras.layers import Dense, Activation, Dropout, Input, LSTM, Reshape, Lambda, RepeatVector\n",
    "from keras.initializers import glorot_uniform\n",
    "from keras.utils import to_categorical\n",
    "from keras.optimizers import Adam\n",
    "from keras import backend as K\n",
    "\n",
    "import h5py"
   ]
  },
  {
   "cell_type": "markdown",
   "metadata": {},
   "source": [
    "## Read smiles from data"
   ]
  },
  {
   "cell_type": "code",
   "execution_count": 2,
   "metadata": {},
   "outputs": [
    {
     "data": {
      "text/html": [
       "<div>\n",
       "<style>\n",
       "    .dataframe thead tr:only-child th {\n",
       "        text-align: right;\n",
       "    }\n",
       "\n",
       "    .dataframe thead th {\n",
       "        text-align: left;\n",
       "    }\n",
       "\n",
       "    .dataframe tbody tr th {\n",
       "        vertical-align: top;\n",
       "    }\n",
       "</style>\n",
       "<table border=\"1\" class=\"dataframe\">\n",
       "  <thead>\n",
       "    <tr style=\"text-align: right;\">\n",
       "      <th></th>\n",
       "      <th>smiles</th>\n",
       "      <th>lens</th>\n",
       "    </tr>\n",
       "  </thead>\n",
       "  <tbody>\n",
       "    <tr>\n",
       "      <th>0</th>\n",
       "      <td>S([C@@H](C(=O)N1CCCC1)C)C1=NC(=O)c2c(N1)ccc(F)c2</td>\n",
       "      <td>48</td>\n",
       "    </tr>\n",
       "    <tr>\n",
       "      <th>1</th>\n",
       "      <td>O=C(NCC1(Cn2nccc2)CC1)c1nnc([O-])c2c1cccc2</td>\n",
       "      <td>42</td>\n",
       "    </tr>\n",
       "    <tr>\n",
       "      <th>2</th>\n",
       "      <td>S(=O)(=O)(CCN[C@@H]([C@H](C)n1nccc1)C)c1ccccc1</td>\n",
       "      <td>46</td>\n",
       "    </tr>\n",
       "    <tr>\n",
       "      <th>3</th>\n",
       "      <td>S(CCC(=O)N1CCNCC1)Cc1ccc(C)cc1</td>\n",
       "      <td>30</td>\n",
       "    </tr>\n",
       "    <tr>\n",
       "      <th>4</th>\n",
       "      <td>Fc1c(CNC2CCN(C(=O)c3cocc3)CC2)c(F)ccc1</td>\n",
       "      <td>38</td>\n",
       "    </tr>\n",
       "  </tbody>\n",
       "</table>\n",
       "</div>"
      ],
      "text/plain": [
       "                                             smiles  lens\n",
       "0  S([C@@H](C(=O)N1CCCC1)C)C1=NC(=O)c2c(N1)ccc(F)c2    48\n",
       "1        O=C(NCC1(Cn2nccc2)CC1)c1nnc([O-])c2c1cccc2    42\n",
       "2    S(=O)(=O)(CCN[C@@H]([C@H](C)n1nccc1)C)c1ccccc1    46\n",
       "3                    S(CCC(=O)N1CCNCC1)Cc1ccc(C)cc1    30\n",
       "4            Fc1c(CNC2CCN(C(=O)c3cocc3)CC2)c(F)ccc1    38"
      ]
     },
     "execution_count": 2,
     "metadata": {},
     "output_type": "execute_result"
    }
   ],
   "source": [
    "smiles_pd = pd.read_csv('finalsmiles_pd.csv')\n",
    "smiles_pd.head()"
   ]
  },
  {
   "cell_type": "code",
   "execution_count": 3,
   "metadata": {},
   "outputs": [],
   "source": [
    "smileslist = smiles_pd['smiles']"
   ]
  },
  {
   "cell_type": "markdown",
   "metadata": {},
   "source": [
    "## Smiles to Char list"
   ]
  },
  {
   "cell_type": "code",
   "execution_count": 4,
   "metadata": {},
   "outputs": [],
   "source": [
    "datawithnextline = '\\n'.join(smileslist)"
   ]
  },
  {
   "cell_type": "code",
   "execution_count": 5,
   "metadata": {},
   "outputs": [],
   "source": [
    "#chars = set(data)\n",
    "def precess_smiles_as_charlist(data):\n",
    "\n",
    "    allchars = []\n",
    "\n",
    "    i = 0\n",
    "\n",
    "    while i < len(data):\n",
    "\n",
    "        if data[i] == 'B' and data[i+1] == 'r':\n",
    "            allchars.append('Br')\n",
    "            i += 1\n",
    "\n",
    "        elif data[i] == 'C' and data[i+1] == 'l':\n",
    "            allchars.append('Cl')\n",
    "            i += 1\n",
    "\n",
    "        else:    \n",
    "            allchars.append(data[i])\n",
    "\n",
    "        i += 1\n",
    "    \n",
    "    return allchars"
   ]
  },
  {
   "cell_type": "markdown",
   "metadata": {},
   "source": [
    "## smiles to char list with '\\n'"
   ]
  },
  {
   "cell_type": "code",
   "execution_count": 6,
   "metadata": {},
   "outputs": [],
   "source": [
    "allcharswithn = precess_smiles_as_charlist(datawithnextline)\n",
    "chars = set(allcharswithn)"
   ]
  },
  {
   "cell_type": "markdown",
   "metadata": {},
   "source": [
    "### Dicts for char_to_index and index_to_char"
   ]
  },
  {
   "cell_type": "markdown",
   "metadata": {},
   "source": [
    "* Atom: C H O N S P F Cl Br I B c o n s p\n",
    "* bond: . = # : $\n",
    "* electonric: + -\n",
    "* @ \\ /\n",
    "* () []\n",
    "* 1 2 3 4 5 6 7 8 9 %\n",
    "* Other"
   ]
  },
  {
   "cell_type": "markdown",
   "metadata": {},
   "source": [
    "## Note: '\\n' is required in trainning procedure, not used for testing"
   ]
  },
  {
   "cell_type": "code",
   "execution_count": 7,
   "metadata": {},
   "outputs": [
    {
     "name": "stdout",
     "output_type": "stream",
     "text": [
      "{0: '\\n', 1: '#', 2: '(', 3: ')', 4: '+', 5: '-', 6: '/', 7: '0', 8: '1', 9: '2', 10: '3', 11: '4', 12: '5', 13: '6', 14: '=', 15: '@', 16: 'Br', 17: 'C', 18: 'Cl', 19: 'F', 20: 'H', 21: 'I', 22: 'N', 23: 'O', 24: 'P', 25: 'S', 26: '[', 27: '\\\\', 28: ']', 29: 'c', 30: 'n', 31: 'o', 32: 'p', 33: 's'}\n"
     ]
    }
   ],
   "source": [
    "char_to_ix = { ch:i for i,ch in enumerate(sorted(chars)) }\n",
    "ix_to_char = { i:ch for i,ch in enumerate(sorted(chars)) }\n",
    "print(ix_to_char)\n",
    "#print(char_to_ix)"
   ]
  },
  {
   "cell_type": "code",
   "execution_count": 8,
   "metadata": {},
   "outputs": [],
   "source": [
    "n_values = len(char_to_ix)"
   ]
  },
  {
   "cell_type": "markdown",
   "metadata": {},
   "source": [
    "We dont have elements: \n",
    ".  : $ 7 8 9 Other , where '\\\\\\' is '\\'"
   ]
  },
  {
   "cell_type": "markdown",
   "metadata": {},
   "source": [
    "## Use char_to_ix to indexing"
   ]
  },
  {
   "cell_type": "code",
   "execution_count": 9,
   "metadata": {},
   "outputs": [],
   "source": [
    "# max len of smiles\n",
    "maxLen = 60"
   ]
  },
  {
   "cell_type": "code",
   "execution_count": null,
   "metadata": {},
   "outputs": [],
   "source": [
    "allsmilesindexlist = []\n",
    "smileindexlist = []\n",
    "\n",
    "for char in allcharswithn:\n",
    "    \n",
    "    if char != '\\n':\n",
    "        smileindexlist.append(char_to_ix[char])\n",
    "    else:\n",
    "        allsmilesindexlist.append(smileindexlist)\n",
    "        smileindexlist = []"
   ]
  },
  {
   "cell_type": "code",
   "execution_count": null,
   "metadata": {},
   "outputs": [],
   "source": [
    "len(allsmilesindexlist)"
   ]
  },
  {
   "cell_type": "markdown",
   "metadata": {},
   "source": [
    "## Prepare X and Y "
   ]
  },
  {
   "cell_type": "code",
   "execution_count": null,
   "metadata": {},
   "outputs": [],
   "source": [
    "X = []\n",
    "Y = []\n",
    "\n",
    "for index in range(len(allsmilesindexlist)):\n",
    "        \n",
    "    sub_X = allsmilesindexlist[index]\n",
    "    sub_Y = sub_X[1:] + [char_to_ix[\"\\n\"]]\n",
    "        \n",
    "    X.append(sub_X)\n",
    "    Y.append(sub_Y)"
   ]
  },
  {
   "cell_type": "markdown",
   "metadata": {},
   "source": [
    "## \"-1\" Padding Post"
   ]
  },
  {
   "cell_type": "code",
   "execution_count": null,
   "metadata": {},
   "outputs": [],
   "source": [
    "X = pad_sequences(X, maxlen=maxLen, padding='post', value=-1)\n",
    "Y = pad_sequences(Y, maxlen=maxLen, padding='post', value=-1)"
   ]
  },
  {
   "cell_type": "code",
   "execution_count": null,
   "metadata": {},
   "outputs": [],
   "source": [
    "X[0]"
   ]
  },
  {
   "cell_type": "code",
   "execution_count": null,
   "metadata": {},
   "outputs": [],
   "source": [
    "X.shape"
   ]
  },
  {
   "cell_type": "markdown",
   "metadata": {},
   "source": [
    "## Save Padding Indexed Data"
   ]
  },
  {
   "cell_type": "code",
   "execution_count": null,
   "metadata": {},
   "outputs": [],
   "source": [
    "h5f = h5py.File('PaddedIndexedData.h5', 'w')\n",
    "h5f.create_dataset('indexed_padded_X', data=X)\n",
    "h5f.create_dataset('indexed_padded_Y', data=Y)\n",
    "h5f.close()"
   ]
  },
  {
   "cell_type": "markdown",
   "metadata": {},
   "source": [
    "## Load Padding Indexed Data"
   ]
  },
  {
   "cell_type": "code",
   "execution_count": null,
   "metadata": {},
   "outputs": [],
   "source": [
    "h5f = h5py.File('PaddedIndexedData.h5','r')\n",
    "X = h5f['indexed_padded_X'][:]\n",
    "Y = h5f['indexed_padded_Y'][:]\n",
    "print(X.shape, Y.shape)\n",
    "h5f.close()"
   ]
  },
  {
   "cell_type": "code",
   "execution_count": null,
   "metadata": {},
   "outputs": [],
   "source": [
    "def one_hot(X, n_x):\n",
    "\n",
    "    m = len(X)\n",
    "    \n",
    "    x = np.zeros((m, n_x), dtype=np.bool)\n",
    "    \n",
    "    for i, char_x in enumerate(X):    \n",
    "        if char_x != -1:\n",
    "            x[i, char_x] = 1\n",
    "                \n",
    "    return x"
   ]
  },
  {
   "cell_type": "code",
   "execution_count": null,
   "metadata": {},
   "outputs": [],
   "source": [
    "X[0]"
   ]
  },
  {
   "cell_type": "code",
   "execution_count": null,
   "metadata": {},
   "outputs": [],
   "source": [
    "Y[0]"
   ]
  },
  {
   "cell_type": "code",
   "execution_count": null,
   "metadata": {},
   "outputs": [],
   "source": [
    "One_X = one_hot(X[0], n_values)\n",
    "One_X.shape"
   ]
  },
  {
   "cell_type": "code",
   "execution_count": null,
   "metadata": {},
   "outputs": [],
   "source": [
    "One_X[0]"
   ]
  },
  {
   "cell_type": "code",
   "execution_count": null,
   "metadata": {},
   "outputs": [],
   "source": [
    "One_X[-1]"
   ]
  },
  {
   "cell_type": "code",
   "execution_count": null,
   "metadata": {},
   "outputs": [],
   "source": [
    "FinalShape = X.shape + (n_values,)\n",
    "FinalShape"
   ]
  },
  {
   "cell_type": "markdown",
   "metadata": {},
   "source": [
    "## OneHot with Padding (First 100000)"
   ]
  },
  {
   "cell_type": "code",
   "execution_count": null,
   "metadata": {},
   "outputs": [],
   "source": [
    "X_onehot = np.zeros((100000, 60, 34))\n",
    "\n",
    "for i in range(100000):\n",
    "     X_onehot[i, :, :] = one_hot(X[i, :], n_values)"
   ]
  },
  {
   "cell_type": "code",
   "execution_count": null,
   "metadata": {},
   "outputs": [],
   "source": [
    "Y_onehot = np.zeros((100000, 60, 34))\n",
    "\n",
    "for i in range(100000):\n",
    "     Y_onehot[i, :, :] = one_hot(Y[i, :], n_values)"
   ]
  },
  {
   "cell_type": "code",
   "execution_count": null,
   "metadata": {},
   "outputs": [],
   "source": [
    "print(X_onehot.shape)\n",
    "print(Y_onehot.shape)"
   ]
  },
  {
   "cell_type": "markdown",
   "metadata": {},
   "source": [
    "## Save OneHot Padding (first 100000)"
   ]
  },
  {
   "cell_type": "code",
   "execution_count": null,
   "metadata": {},
   "outputs": [],
   "source": [
    "h5f = h5py.File('molecular_onehotPaddedIndexedData.h5', 'w')\n",
    "h5f.create_dataset('onehot_indexed_padded_X', data=X_onehot)\n",
    "h5f.create_dataset('onehot_indexed_padded_Y', data=Y_onehot)\n",
    "h5f.close()"
   ]
  },
  {
   "cell_type": "markdown",
   "metadata": {},
   "source": [
    "## Load OneHot Padding"
   ]
  },
  {
   "cell_type": "code",
   "execution_count": 10,
   "metadata": {},
   "outputs": [
    {
     "name": "stdout",
     "output_type": "stream",
     "text": [
      "(100000, 60, 34) (100000, 60, 34)\n"
     ]
    }
   ],
   "source": [
    "h5f = h5py.File('molecular_onehotPaddedIndexedData.h5','r')\n",
    "X_onehot = h5f['onehot_indexed_padded_X'][:]\n",
    "Y_onehot = h5f['onehot_indexed_padded_X'][:]\n",
    "print(X_onehot.shape, Y_onehot.shape)\n",
    "h5f.close()"
   ]
  },
  {
   "cell_type": "markdown",
   "metadata": {},
   "source": [
    "## Mole2Vec_LTSM (set n_a for length of embedding)"
   ]
  },
  {
   "cell_type": "code",
   "execution_count": 11,
   "metadata": {},
   "outputs": [],
   "source": [
    "#hidden state\n",
    "n_a = 200"
   ]
  },
  {
   "cell_type": "code",
   "execution_count": 12,
   "metadata": {},
   "outputs": [],
   "source": [
    "reshapor = Reshape((1, n_values))           # Used in Step 2.B of djmodel(), below\n",
    "LSTM_cell = LSTM(n_a, return_state = True)         # Used in Step 2.C\n",
    "densor = Dense(n_values, activation='softmax')     # Used in Step 2.D"
   ]
  },
  {
   "cell_type": "code",
   "execution_count": 13,
   "metadata": {},
   "outputs": [],
   "source": [
    "def Mole2Vec_LTSM(Tx, n_a, n_values):\n",
    "    \"\"\"\n",
    "    Implement the model\n",
    "    \n",
    "    Arguments:\n",
    "    Tx -- length of the smiles\n",
    "    n_a -- the number of activations used in our model\n",
    "    n_values -- number of unique atom in smiles\n",
    "    \n",
    "    Returns:\n",
    "    model -- a keras model with the \n",
    "    \"\"\"\n",
    "    \n",
    "    # Define the input of your model with a shape \n",
    "    X = Input(shape=(Tx, n_values))\n",
    "    \n",
    "    # Define s0, initial hidden state for the decoder LSTM\n",
    "    a0 = Input(shape=(n_a,), name='a0')\n",
    "    c0 = Input(shape=(n_a,), name='c0')\n",
    "    a = a0\n",
    "    c = c0\n",
    "    \n",
    "    # Step 1: Create empty list to append the outputs while you iterate \n",
    "    outputs = []\n",
    "    \n",
    "    # Step 2: Loop\n",
    "    for t in range(Tx):\n",
    "        \n",
    "        # Step 2.A: select the \"t\"th time step vector from X. \n",
    "        x = Lambda(lambda x: X[:,t,:])(X)\n",
    "        # Step 2.B: Use reshapor to reshape x to be (1, n_values)\n",
    "        x = reshapor(x)\n",
    "        # Step 2.C: Perform one step of the LSTM_cell\n",
    "        a, _, c = LSTM_cell(x, initial_state=[a, c])\n",
    "        # Step 2.D: Apply densor to the hidden state output of LSTM_Cell\n",
    "        out = densor(a)\n",
    "        # Step 2.E: add the output to \"outputs\"\n",
    "        outputs.append(out)\n",
    "    \n",
    "    #outputs.append(a)\n",
    "    \n",
    "    # Step 3: Create model instance\n",
    "    model = Model(inputs=[X, a0, c0], outputs=outputs)\n",
    "    \n",
    "    ### END CODE HERE ###\n",
    "    \n",
    "    return model"
   ]
  },
  {
   "cell_type": "code",
   "execution_count": 14,
   "metadata": {},
   "outputs": [
    {
     "name": "stdout",
     "output_type": "stream",
     "text": [
      "60\n",
      "200\n",
      "34\n"
     ]
    }
   ],
   "source": [
    "print(maxLen)\n",
    "print(n_a)\n",
    "print(n_values)"
   ]
  },
  {
   "cell_type": "code",
   "execution_count": 15,
   "metadata": {
    "scrolled": false
   },
   "outputs": [],
   "source": [
    "model = Mole2Vec_LTSM(Tx = maxLen , n_a = n_a, n_values = n_values)"
   ]
  },
  {
   "cell_type": "code",
   "execution_count": 16,
   "metadata": {},
   "outputs": [],
   "source": [
    "opt = Adam(lr=0.01, beta_1=0.9, beta_2=0.999, decay=0.01)\n",
    "\n",
    "model.compile(optimizer=opt, loss='categorical_crossentropy', metrics=['accuracy'])"
   ]
  },
  {
   "cell_type": "code",
   "execution_count": 17,
   "metadata": {},
   "outputs": [
    {
     "name": "stdout",
     "output_type": "stream",
     "text": [
      "(100000, 60, 34) (100000, 60, 34)\n"
     ]
    }
   ],
   "source": [
    "print(X_onehot.shape, Y_onehot.shape)"
   ]
  },
  {
   "cell_type": "code",
   "execution_count": 18,
   "metadata": {},
   "outputs": [],
   "source": [
    "Y_onehot = Y_onehot.reshape(Y_onehot.shape[1], Y_onehot.shape[0], Y_onehot.shape[2])"
   ]
  },
  {
   "cell_type": "code",
   "execution_count": 19,
   "metadata": {},
   "outputs": [
    {
     "name": "stdout",
     "output_type": "stream",
     "text": [
      "(100000, 60, 34) (60, 100000, 34)\n"
     ]
    }
   ],
   "source": [
    "print(X_onehot.shape, Y_onehot.shape)"
   ]
  },
  {
   "cell_type": "code",
   "execution_count": 20,
   "metadata": {},
   "outputs": [
    {
     "data": {
      "text/plain": [
       "100000"
      ]
     },
     "execution_count": 20,
     "metadata": {},
     "output_type": "execute_result"
    }
   ],
   "source": [
    "len(X_onehot)"
   ]
  },
  {
   "cell_type": "code",
   "execution_count": 21,
   "metadata": {},
   "outputs": [
    {
     "name": "stdout",
     "output_type": "stream",
     "text": [
      "(100, 200)\n"
     ]
    }
   ],
   "source": [
    "batch_size = 100\n",
    "a0 = np.zeros((batch_size, n_a))\n",
    "finala = np.zeros((batch_size, n_a))\n",
    "c0 = np.zeros((batch_size, n_a))\n",
    "print(a0.shape)"
   ]
  },
  {
   "cell_type": "code",
   "execution_count": 22,
   "metadata": {},
   "outputs": [
    {
     "data": {
      "text/plain": [
       "(60, 100000, 34)"
      ]
     },
     "execution_count": 22,
     "metadata": {},
     "output_type": "execute_result"
    }
   ],
   "source": [
    "Y_onehot.shape"
   ]
  },
  {
   "cell_type": "code",
   "execution_count": 23,
   "metadata": {
    "scrolled": true
   },
   "outputs": [
    {
     "name": "stdout",
     "output_type": "stream",
     "text": [
      "WARNING:tensorflow:Variable *= will be deprecated. Use variable.assign_mul if you want assignment to the variable value or 'x = x * y' if you want a new python Tensor object.\n"
     ]
    },
    {
     "data": {
      "text/plain": [
       "146.48161"
      ]
     },
     "execution_count": 23,
     "metadata": {},
     "output_type": "execute_result"
    }
   ],
   "source": [
    "loss = model.train_on_batch([X_onehot[0:0+batch_size, :, :], a0, c0], list(Y_onehot[:, 0:0+batch_size, :]))\n",
    "loss[0]"
   ]
  },
  {
   "cell_type": "markdown",
   "metadata": {},
   "source": [
    "### Trainning Procedures (Only One Epoch)"
   ]
  },
  {
   "cell_type": "code",
   "execution_count": 24,
   "metadata": {
    "scrolled": false
   },
   "outputs": [
    {
     "name": "stdout",
     "output_type": "stream",
     "text": [
      "batch: 0 140.27757\n",
      "batch: 10000 106.8993\n",
      "batch: 20000 102.83084\n",
      "batch: 30000 104.29698\n",
      "batch: 40000 107.69733\n",
      "batch: 50000 109.27319\n",
      "batch: 60000 107.42186\n",
      "batch: 70000 108.90444\n",
      "batch: 80000 110.81684\n",
      "batch: 90000 105.430115\n"
     ]
    }
   ],
   "source": [
    "batch_size = 100\n",
    "a0 = np.zeros((batch_size, n_a))\n",
    "c0 = np.zeros((batch_size, n_a))\n",
    "\n",
    "for i in range(0, len(X_onehot), batch_size):\n",
    "    loss = model.train_on_batch([X_onehot[i:i+batch_size, :, :], a0, c0], list(Y_onehot[:, i:i+batch_size, :]))\n",
    "    if (i % 10000 == 0):   \n",
    "        print(\"batch:\", i, loss[0])"
   ]
  },
  {
   "cell_type": "code",
   "execution_count": 25,
   "metadata": {},
   "outputs": [
    {
     "data": {
      "text/plain": [
       "[array([[1.5041321e-04, 1.0498307e-03, 1.0346197e-01, 9.2954457e-02,\n",
       "         8.3543250e-04, 8.4982347e-03, 3.0392362e-03, 3.3850461e-04,\n",
       "         7.2884008e-02, 4.6426315e-02, 1.0649579e-02, 9.8931813e-04,\n",
       "         2.3332941e-04, 1.3482542e-04, 3.2104969e-02, 3.1331956e-02,\n",
       "         7.9580006e-04, 1.9404598e-01, 1.9963463e-03, 5.4687187e-03,\n",
       "         2.1192793e-02, 2.3205896e-04, 4.0883161e-02, 4.3841615e-02,\n",
       "         2.6149253e-04, 3.9549163e-03, 3.0205613e-02, 1.1924367e-03,\n",
       "         3.1736676e-02, 1.7951018e-01, 3.5020150e-02, 1.7863639e-03,\n",
       "         1.8045490e-04, 2.6128527e-03]], dtype=float32),\n",
       " array([[7.44449153e-06, 1.13746535e-03, 9.84828547e-02, 9.98111963e-02,\n",
       "         7.34369562e-04, 8.79194960e-03, 3.11048026e-03, 1.09766945e-04,\n",
       "         6.86650202e-02, 4.56117541e-02, 1.13996407e-02, 1.13823137e-03,\n",
       "         2.29256184e-05, 6.81510983e-06, 3.23534496e-02, 3.37844379e-02,\n",
       "         6.52946008e-04, 1.79888651e-01, 2.68231588e-03, 5.22764167e-03,\n",
       "         2.38872040e-02, 2.90928492e-05, 4.32024226e-02, 4.19866778e-02,\n",
       "         3.21631960e-05, 3.92996892e-03, 3.48212272e-02, 1.35968614e-03,\n",
       "         3.44364531e-02, 1.78834066e-01, 3.83466408e-02, 2.47890851e-03,\n",
       "         1.33287249e-05, 3.02284933e-03]], dtype=float32),\n",
       " array([[4.6216824e-06, 1.3001553e-03, 9.7475484e-02, 9.7353153e-02,\n",
       "         8.4526866e-04, 8.9815259e-03, 3.3622754e-03, 1.0069381e-04,\n",
       "         6.9166623e-02, 4.6014704e-02, 1.2010449e-02, 1.1230995e-03,\n",
       "         1.6727847e-05, 4.1985254e-06, 3.2347117e-02, 3.0735826e-02,\n",
       "         7.0085860e-04, 1.8182479e-01, 2.8657492e-03, 5.4859300e-03,\n",
       "         2.1214081e-02, 2.2452319e-05, 4.4036958e-02, 4.3026894e-02,\n",
       "         2.4774219e-05, 4.4271327e-03, 3.2990675e-02, 1.4680439e-03,\n",
       "         3.2795887e-02, 1.8593509e-01, 3.6581308e-02, 2.7631775e-03,\n",
       "         8.8506458e-06, 2.9855056e-03]], dtype=float32),\n",
       " array([[4.0600403e-06, 1.3353253e-03, 9.8354533e-02, 9.6530251e-02,\n",
       "         8.2228880e-04, 8.6368108e-03, 3.3536747e-03, 9.4996038e-05,\n",
       "         7.1069531e-02, 4.5185249e-02, 1.1844636e-02, 1.0941634e-03,\n",
       "         1.5120529e-05, 3.6624949e-06, 3.3050872e-02, 3.0433055e-02,\n",
       "         6.8072299e-04, 1.8482772e-01, 2.7895975e-03, 5.4013208e-03,\n",
       "         2.1253899e-02, 2.0537380e-05, 4.4037465e-02, 4.2947948e-02,\n",
       "         2.1617883e-05, 4.3375869e-03, 3.2359585e-02, 1.4114085e-03,\n",
       "         3.2071721e-02, 1.8473339e-01, 3.5671007e-02, 2.6705447e-03,\n",
       "         7.7888017e-06, 2.9278956e-03]], dtype=float32),\n",
       " array([[4.25091093e-06, 1.43270975e-03, 9.73762274e-02, 9.35958326e-02,\n",
       "         8.87018628e-04, 8.61889590e-03, 3.42360861e-03, 1.01407655e-04,\n",
       "         7.11713582e-02, 4.45723943e-02, 1.22835459e-02, 1.15316175e-03,\n",
       "         1.57334216e-05, 3.87721866e-06, 3.34480554e-02, 3.08094267e-02,\n",
       "         7.21345947e-04, 1.87503219e-01, 2.93786568e-03, 5.64329932e-03,\n",
       "         2.08336748e-02, 2.16792632e-05, 4.43916805e-02, 4.29466441e-02,\n",
       "         2.30108453e-05, 4.49158996e-03, 3.25677432e-02, 1.51843124e-03,\n",
       "         3.13491113e-02, 1.85404748e-01, 3.49853896e-02, 2.81255739e-03,\n",
       "         8.05552645e-06, 2.94248364e-03]], dtype=float32),\n",
       " array([[3.9677316e-06, 1.4049039e-03, 9.7743921e-02, 9.3414508e-02,\n",
       "         8.6750305e-04, 8.4871296e-03, 3.3691691e-03, 9.7423821e-05,\n",
       "         7.1048118e-02, 4.4239625e-02, 1.2175746e-02, 1.1250089e-03,\n",
       "         1.4794825e-05, 3.6208285e-06, 3.3535242e-02, 3.0660458e-02,\n",
       "         7.0242485e-04, 1.8816465e-01, 2.8955983e-03, 5.5810604e-03,\n",
       "         2.0626774e-02, 2.0484729e-05, 4.4306524e-02, 4.2908005e-02,\n",
       "         2.1818321e-05, 4.4293469e-03, 3.2282121e-02, 1.4909755e-03,\n",
       "         3.1124519e-02, 1.8678400e-01, 3.4795959e-02, 2.7676935e-03,\n",
       "         7.5405842e-06, 2.8993175e-03]], dtype=float32),\n",
       " array([[4.1507819e-06, 1.4690504e-03, 9.6918099e-02, 9.3188770e-02,\n",
       "         8.7570894e-04, 8.7713366e-03, 3.3746553e-03, 1.0253107e-04,\n",
       "         7.0278525e-02, 4.6265297e-02, 1.1889043e-02, 1.1319284e-03,\n",
       "         1.5276377e-05, 3.8335847e-06, 3.4300640e-02, 3.0771406e-02,\n",
       "         7.1685988e-04, 1.8693179e-01, 2.9979819e-03, 5.6203841e-03,\n",
       "         2.0795250e-02, 2.1680245e-05, 4.4290531e-02, 4.2830661e-02,\n",
       "         2.2463624e-05, 4.5554414e-03, 3.1665977e-02, 1.5149729e-03,\n",
       "         3.0835431e-02, 1.8690670e-01, 3.5108205e-02, 2.7704691e-03,\n",
       "         7.8371922e-06, 3.0471194e-03]], dtype=float32),\n",
       " array([[4.0285054e-06, 1.4230899e-03, 9.6735276e-02, 9.5838629e-02,\n",
       "         8.9901267e-04, 8.5314857e-03, 3.3971446e-03, 9.8346703e-05,\n",
       "         7.0463978e-02, 4.3888424e-02, 1.2337444e-02, 1.1450006e-03,\n",
       "         1.5032085e-05, 3.6578861e-06, 3.4004461e-02, 3.1051135e-02,\n",
       "         7.1256253e-04, 1.8665962e-01, 2.9948833e-03, 5.5634375e-03,\n",
       "         2.0475484e-02, 2.0759773e-05, 4.4089340e-02, 4.4149715e-02,\n",
       "         2.2518752e-05, 4.5894040e-03, 3.1263143e-02, 1.5062853e-03,\n",
       "         3.1253446e-02, 1.8574980e-01, 3.5244565e-02, 2.8182543e-03,\n",
       "         7.7843952e-06, 3.0428658e-03]], dtype=float32),\n",
       " array([[3.7452335e-06, 1.3547215e-03, 9.6584983e-02, 9.6238479e-02,\n",
       "         8.3486893e-04, 8.4181335e-03, 3.3276966e-03, 9.4559873e-05,\n",
       "         7.0611008e-02, 4.4219367e-02, 1.2564742e-02, 1.1035961e-03,\n",
       "         1.4616675e-05, 3.5020219e-06, 3.3231750e-02, 3.1400375e-02,\n",
       "         6.7660055e-04, 1.8432868e-01, 2.8216799e-03, 5.3720339e-03,\n",
       "         2.1205459e-02, 1.9899826e-05, 4.4082802e-02, 4.1869074e-02,\n",
       "         2.1286211e-05, 4.3818490e-03, 3.2444771e-02, 1.5128786e-03,\n",
       "         3.2251246e-02, 1.8758218e-01, 3.5723951e-02, 2.7553684e-03,\n",
       "         7.4806048e-06, 2.9366571e-03]], dtype=float32),\n",
       " array([[3.8960497e-06, 1.3738786e-03, 9.7630039e-02, 9.5923446e-02,\n",
       "         8.3675323e-04, 8.5448408e-03, 3.3960782e-03, 9.4289637e-05,\n",
       "         7.1191683e-02, 4.4957928e-02, 1.1995205e-02, 1.1012999e-03,\n",
       "         1.4707606e-05, 3.5134424e-06, 3.3695120e-02, 3.0274387e-02,\n",
       "         6.8324135e-04, 1.8466219e-01, 2.8299505e-03, 5.4327911e-03,\n",
       "         2.1093437e-02, 2.0062043e-05, 4.4448372e-02, 4.2924456e-02,\n",
       "         2.1027769e-05, 4.3879803e-03, 3.2135133e-02, 1.4476135e-03,\n",
       "         3.1735297e-02, 1.8582515e-01, 3.5641070e-02, 2.7068073e-03,\n",
       "         7.4987829e-06, 2.9609117e-03]], dtype=float32),\n",
       " array([[3.8515172e-06, 1.3666449e-03, 9.6245669e-02, 9.6315116e-02,\n",
       "         8.3963567e-04, 8.4875077e-03, 3.3578908e-03, 9.5745840e-05,\n",
       "         7.0620656e-02, 4.4581428e-02, 1.2664408e-02, 1.1152768e-03,\n",
       "         1.5017917e-05, 3.5981423e-06, 3.3049174e-02, 3.1518020e-02,\n",
       "         6.7874393e-04, 1.8420078e-01, 2.8316593e-03, 5.3966609e-03,\n",
       "         2.1369906e-02, 2.0324629e-05, 4.4220511e-02, 4.1897371e-02,\n",
       "         2.1661675e-05, 4.3956083e-03, 3.2720141e-02, 1.5253325e-03,\n",
       "         3.2463707e-02, 1.8634787e-01, 3.5904344e-02, 2.7663147e-03,\n",
       "         7.6920705e-06, 2.9516742e-03]], dtype=float32),\n",
       " array([[3.7983541e-06, 1.4532009e-03, 9.5399439e-02, 9.5331073e-02,\n",
       "         8.4383361e-04, 8.6793443e-03, 3.4119219e-03, 9.6092685e-05,\n",
       "         7.2293058e-02, 4.5233868e-02, 1.2008132e-02, 1.1223283e-03,\n",
       "         1.4889719e-05, 3.5144983e-06, 3.4737300e-02, 3.0739568e-02,\n",
       "         6.8875076e-04, 1.8615755e-01, 2.9213717e-03, 5.6839287e-03,\n",
       "         2.0945651e-02, 1.9883360e-05, 4.4222258e-02, 4.3800127e-02,\n",
       "         2.1534928e-05, 4.4596749e-03, 3.0855518e-02, 1.5020655e-03,\n",
       "         3.1106459e-02, 1.8468447e-01, 3.5527259e-02, 2.8825111e-03,\n",
       "         7.5047355e-06, 3.1421231e-03]], dtype=float32),\n",
       " array([[3.6874042e-06, 1.2582002e-03, 9.6034877e-02, 9.5917135e-02,\n",
       "         7.8351371e-04, 8.1013739e-03, 3.1471734e-03, 8.8132845e-05,\n",
       "         7.2389603e-02, 4.6016809e-02, 1.2197985e-02, 1.0472060e-03,\n",
       "         1.3827062e-05, 3.2965156e-06, 3.3966012e-02, 3.0291678e-02,\n",
       "         6.3220982e-04, 1.8524389e-01, 2.7263567e-03, 5.3702048e-03,\n",
       "         2.1547789e-02, 1.8093113e-05, 4.5140062e-02, 4.3053459e-02,\n",
       "         1.9981255e-05, 4.1332878e-03, 3.1728689e-02, 1.4092975e-03,\n",
       "         3.1471092e-02, 1.8455468e-01, 3.6120154e-02, 2.6658182e-03,\n",
       "         6.7199230e-06, 2.8977431e-03]], dtype=float32),\n",
       " array([[3.7688244e-06, 1.4095491e-03, 9.7082168e-02, 9.6235104e-02,\n",
       "         8.4248651e-04, 8.4387669e-03, 3.2579575e-03, 9.3150178e-05,\n",
       "         7.0102125e-02, 4.4668734e-02, 1.2078537e-02, 1.0731459e-03,\n",
       "         1.4550350e-05, 3.4930533e-06, 3.3641495e-02, 2.9818218e-02,\n",
       "         6.8178051e-04, 1.8730263e-01, 2.8129804e-03, 5.4330230e-03,\n",
       "         2.1121502e-02, 1.9550174e-05, 4.4793010e-02, 4.3316413e-02,\n",
       "         2.0719168e-05, 4.4264840e-03, 3.1361137e-02, 1.4402329e-03,\n",
       "         3.1313606e-02, 1.8598014e-01, 3.5480209e-02, 2.7426144e-03,\n",
       "         7.1647924e-06, 2.9835245e-03]], dtype=float32),\n",
       " array([[3.8960525e-06, 1.3539139e-03, 9.6677184e-02, 9.6448645e-02,\n",
       "         8.2481484e-04, 8.2121110e-03, 3.1899223e-03, 9.3367504e-05,\n",
       "         7.1081623e-02, 4.4875138e-02, 1.2207800e-02, 1.0671918e-03,\n",
       "         1.4265283e-05, 3.5083121e-06, 3.3060808e-02, 2.9813794e-02,\n",
       "         6.5793033e-04, 1.8538135e-01, 2.7874468e-03, 5.4065785e-03,\n",
       "         2.0626156e-02, 1.9264535e-05, 4.4162173e-02, 4.3296643e-02,\n",
       "         2.0641768e-05, 4.2751064e-03, 3.1614792e-02, 1.4410057e-03,\n",
       "         3.1336166e-02, 1.8886630e-01, 3.5644632e-02, 2.6720907e-03,\n",
       "         7.0898445e-06, 2.8566439e-03]], dtype=float32),\n",
       " array([[3.8580547e-06, 1.4060111e-03, 9.8964676e-02, 9.8444007e-02,\n",
       "         8.8176347e-04, 8.4324749e-03, 3.3523503e-03, 9.6983669e-05,\n",
       "         7.0371732e-02, 4.4891309e-02, 1.1785827e-02, 1.0666547e-03,\n",
       "         1.5013828e-05, 3.5890582e-06, 3.4715340e-02, 2.9313156e-02,\n",
       "         6.9616537e-04, 1.8011896e-01, 2.8830124e-03, 5.7237945e-03,\n",
       "         2.0464877e-02, 2.0051808e-05, 4.3851089e-02, 4.5945678e-02,\n",
       "         2.1039279e-05, 4.6266858e-03, 3.0870469e-02, 1.4648603e-03,\n",
       "         3.1172838e-02, 1.8815207e-01, 3.4319762e-02, 2.8125597e-03,\n",
       "         7.3059359e-06, 3.1040828e-03]], dtype=float32),\n",
       " array([[3.6736380e-06, 1.3626630e-03, 9.7851790e-02, 9.6739881e-02,\n",
       "         8.2122692e-04, 8.3957920e-03, 3.3154676e-03, 9.0546964e-05,\n",
       "         7.0604019e-02, 4.4659860e-02, 1.1679916e-02, 1.0547774e-03,\n",
       "         1.3816542e-05, 3.3402889e-06, 3.3981096e-02, 2.9620180e-02,\n",
       "         6.6432747e-04, 1.8617564e-01, 2.7780859e-03, 5.4268683e-03,\n",
       "         2.0769933e-02, 1.9045256e-05, 4.3932300e-02, 4.3926306e-02,\n",
       "         1.9835934e-05, 4.3501169e-03, 3.1322371e-02, 1.3981035e-03,\n",
       "         3.0895490e-02, 1.8769956e-01, 3.4798391e-02, 2.6658764e-03,\n",
       "         6.9785706e-06, 2.9527904e-03]], dtype=float32),\n",
       " array([[3.9015972e-06, 1.4022401e-03, 9.7619526e-02, 9.6684389e-02,\n",
       "         8.4419531e-04, 8.5201859e-03, 3.3861301e-03, 9.4485986e-05,\n",
       "         7.0808046e-02, 4.4946562e-02, 1.1863270e-02, 1.0848437e-03,\n",
       "         1.4620814e-05, 3.5431333e-06, 3.4033518e-02, 2.9825395e-02,\n",
       "         6.8349537e-04, 1.8496016e-01, 2.8292527e-03, 5.5072526e-03,\n",
       "         2.0969443e-02, 2.0049838e-05, 4.4082828e-02, 4.3874089e-02,\n",
       "         2.0810234e-05, 4.4240975e-03, 3.1591751e-02, 1.4369220e-03,\n",
       "         3.1164506e-02, 1.8649444e-01, 3.5069928e-02, 2.7255898e-03,\n",
       "         7.3996880e-06, 3.0031081e-03]], dtype=float32),\n",
       " array([[3.7546172e-06, 1.3777793e-03, 9.7821645e-02, 9.6740983e-02,\n",
       "         8.2789949e-04, 8.4518120e-03, 3.3377446e-03, 9.1894915e-05,\n",
       "         7.0682235e-02, 4.4860590e-02, 1.1773386e-02, 1.0664462e-03,\n",
       "         1.4110093e-05, 3.4035590e-06, 3.3863176e-02, 2.9752946e-02,\n",
       "         6.6884223e-04, 1.8563840e-01, 2.7909784e-03, 5.4504778e-03,\n",
       "         2.0885061e-02, 1.9383864e-05, 4.3982688e-02, 4.3829974e-02,\n",
       "         2.0144076e-05, 4.3726251e-03, 3.1516515e-02, 1.4122647e-03,\n",
       "         3.1112639e-02, 1.8697099e-01, 3.5003062e-02, 2.6877362e-03,\n",
       "         7.1350205e-06, 2.9612547e-03]], dtype=float32),\n",
       " array([[3.8551084e-06, 1.3946331e-03, 9.7664058e-02, 9.6672036e-02,\n",
       "         8.3886844e-04, 8.4981555e-03, 3.3693074e-03, 9.3675306e-05,\n",
       "         7.0743956e-02, 4.4959787e-02, 1.1835771e-02, 1.0793634e-03,\n",
       "         1.4456073e-05, 3.4956051e-06, 3.3932775e-02, 2.9802961e-02,\n",
       "         6.7815214e-04, 1.8521611e-01, 2.8151481e-03, 5.4849605e-03,\n",
       "         2.0948395e-02, 1.9838864e-05, 4.4049483e-02, 4.3855567e-02,\n",
       "         2.0593421e-05, 4.4077323e-03, 3.1583399e-02, 1.4285312e-03,\n",
       "         3.1170988e-02, 1.8664995e-01, 3.5057947e-02, 2.7141392e-03,\n",
       "         7.3187330e-06, 2.9846465e-03]], dtype=float32),\n",
       " array([[3.9377087e-06, 1.4445952e-03, 9.9128664e-02, 9.8673806e-02,\n",
       "         9.0385618e-04, 8.4683187e-03, 3.3860460e-03, 9.9024997e-05,\n",
       "         7.0460007e-02, 4.4696886e-02, 1.1789571e-02, 1.0856396e-03,\n",
       "         1.5280477e-05, 3.6538493e-06, 3.4983378e-02, 2.9240543e-02,\n",
       "         7.1118993e-04, 1.7964776e-01, 2.9295585e-03, 5.8054072e-03,\n",
       "         2.0402960e-02, 2.0508998e-05, 4.3842241e-02, 4.6247117e-02,\n",
       "         2.1475173e-05, 4.6997261e-03, 3.0722283e-02, 1.4836388e-03,\n",
       "         3.0972997e-02, 1.8790793e-01, 3.4185916e-02, 2.8627107e-03,\n",
       "         7.4680192e-06, 3.1458528e-03]], dtype=float32),\n",
       " array([[3.7293009e-06, 1.4580281e-03, 9.8059058e-02, 9.6906118e-02,\n",
       "         8.6705707e-04, 8.3794575e-03, 3.2664943e-03, 9.3759940e-05,\n",
       "         7.0170894e-02, 4.3997221e-02, 1.1899466e-02, 1.0741155e-03,\n",
       "         1.4299008e-05, 3.4619545e-06, 3.4521770e-02, 2.9511815e-02,\n",
       "         6.9940009e-04, 1.8700592e-01, 2.8590981e-03, 5.5532707e-03,\n",
       "         2.0858914e-02, 1.9528403e-05, 4.4538215e-02, 4.4112332e-02,\n",
       "         2.0624471e-05, 4.5061721e-03, 3.0631030e-02, 1.4503341e-03,\n",
       "         3.0545548e-02, 1.8621007e-01, 3.4906954e-02, 2.7942474e-03,\n",
       "         7.0428810e-06, 3.0545832e-03]], dtype=float32),\n",
       " array([[3.8032986e-06, 1.4085271e-03, 9.7901762e-02, 9.7160518e-02,\n",
       "         8.4509049e-04, 8.4543265e-03, 3.3634023e-03, 9.3484436e-05,\n",
       "         7.0832618e-02, 4.4614911e-02, 1.1736934e-02, 1.0686852e-03,\n",
       "         1.4238622e-05, 3.4706693e-06, 3.4391787e-02, 2.9612783e-02,\n",
       "         6.8596686e-04, 1.8484245e-01, 2.8270362e-03, 5.5433726e-03,\n",
       "         2.0791227e-02, 1.9685966e-05, 4.3832611e-02, 4.4346124e-02,\n",
       "         2.0360183e-05, 4.4303662e-03, 3.1119693e-02, 1.4268704e-03,\n",
       "         3.0753396e-02, 1.8733460e-01, 3.4760054e-02, 2.7276655e-03,\n",
       "         7.1743643e-06, 3.0249539e-03]], dtype=float32),\n",
       " array([[3.8940302e-06, 1.4966124e-03, 9.7917542e-02, 9.7122371e-02,\n",
       "         8.8579010e-04, 8.4729651e-03, 3.3113211e-03, 9.6609292e-05,\n",
       "         7.0291258e-02, 4.4272318e-02, 1.2026212e-02, 1.0886119e-03,\n",
       "         1.4864837e-05, 3.6195486e-06, 3.4641214e-02, 2.9600212e-02,\n",
       "         7.1471184e-04, 1.8608926e-01, 2.8955576e-03, 5.6420253e-03,\n",
       "         2.1001367e-02, 2.0229483e-05, 4.4486530e-02, 4.4303421e-02,\n",
       "         2.1262376e-05, 4.5591728e-03, 3.0662434e-02, 1.4804006e-03,\n",
       "         3.0689536e-02, 1.8515529e-01, 3.5069354e-02, 2.8477358e-03,\n",
       "         7.3012720e-06, 3.1089990e-03]], dtype=float32),\n",
       " array([[3.6775289e-06, 1.3968587e-03, 9.8116979e-02, 9.7448707e-02,\n",
       "         8.3410321e-04, 8.3942413e-03, 3.3191594e-03, 9.1287337e-05,\n",
       "         7.0654862e-02, 4.4560395e-02, 1.1632727e-02, 1.0465890e-03,\n",
       "         1.3768033e-05, 3.3588672e-06, 3.4384206e-02, 2.9444590e-02,\n",
       "         6.7525037e-04, 1.8541892e-01, 2.7956003e-03, 5.5252705e-03,\n",
       "         2.0685162e-02, 1.9096671e-05, 4.3596722e-02, 4.4581212e-02,\n",
       "         1.9716663e-05, 4.3903547e-03, 3.0867351e-02, 1.4066052e-03,\n",
       "         3.0586945e-02, 1.8776239e-01, 3.4603097e-02, 2.7058108e-03,\n",
       "         6.9081361e-06, 3.0080853e-03]], dtype=float32),\n",
       " array([[4.0299410e-06, 1.4914277e-03, 9.9224843e-02, 9.9232584e-02,\n",
       "         9.2804560e-04, 8.5021807e-03, 3.4134185e-03, 1.0113581e-04,\n",
       "         7.0432611e-02, 4.4650342e-02, 1.1755014e-02, 1.0845728e-03,\n",
       "         1.5514457e-05, 3.7648319e-06, 3.5575185e-02, 2.9002145e-02,\n",
       "         7.2955625e-04, 1.7911021e-01, 2.9696976e-03, 5.9428816e-03,\n",
       "         2.0334726e-02, 2.0931508e-05, 4.3521274e-02, 4.7037791e-02,\n",
       "         2.1771408e-05, 4.7623734e-03, 3.0247688e-02, 1.5046595e-03,\n",
       "         3.0606495e-02, 1.8767968e-01, 3.3929296e-02, 2.9245855e-03,\n",
       "         7.5372618e-06, 3.2320418e-03]], dtype=float32),\n",
       " array([[3.5563137e-06, 1.4821155e-03, 9.6180387e-02, 9.6830375e-02,\n",
       "         8.4613496e-04, 8.5059693e-03, 3.3278263e-03, 9.2769333e-05,\n",
       "         7.1621291e-02, 4.4627767e-02, 1.1539164e-02, 1.0602672e-03,\n",
       "         1.3782239e-05, 3.3376884e-06, 3.5733663e-02, 2.9670835e-02,\n",
       "         6.8217993e-04, 1.8755880e-01, 2.8939429e-03, 5.8035678e-03,\n",
       "         2.0407684e-02, 1.8793478e-05, 4.3146197e-02, 4.5793619e-02,\n",
       "         2.0086993e-05, 4.4661495e-03, 2.9357839e-02, 1.4555968e-03,\n",
       "         2.9697709e-02, 1.8686518e-01, 3.4194753e-02, 2.8860960e-03,\n",
       "         6.8434515e-06, 3.2056940e-03]], dtype=float32),\n",
       " array([[4.0736722e-06, 1.4325618e-03, 9.7043194e-02, 9.7140804e-02,\n",
       "         8.6783350e-04, 8.2928110e-03, 3.2540155e-03, 9.7633500e-05,\n",
       "         7.1098827e-02, 4.4871479e-02, 1.2176038e-02, 1.0799137e-03,\n",
       "         1.4765019e-05, 3.7005493e-06, 3.3998635e-02, 2.9452993e-02,\n",
       "         6.8881299e-04, 1.8462433e-01, 2.8757532e-03, 5.6148153e-03,\n",
       "         2.0529363e-02, 2.0040383e-05, 4.3771848e-02, 4.4370979e-02,\n",
       "         2.1447808e-05, 4.3996107e-03, 3.1053809e-02, 1.4857632e-03,\n",
       "         3.0797109e-02, 1.8792692e-01, 3.5232339e-02, 2.7723000e-03,\n",
       "         7.3256979e-06, 2.9781309e-03]], dtype=float32),\n",
       " array([[3.5748976e-06, 1.3584417e-03, 9.8128989e-02, 9.7188368e-02,\n",
       "         8.1074104e-04, 8.3522005e-03, 3.2681513e-03, 8.8659865e-05,\n",
       "         7.0337191e-02, 4.4833131e-02, 1.1580071e-02, 1.0227306e-03,\n",
       "         1.3386033e-05, 3.2665680e-06, 3.4080949e-02, 2.9412538e-02,\n",
       "         6.5411045e-04, 1.8655285e-01, 2.7405133e-03, 5.4386943e-03,\n",
       "         2.0719936e-02, 1.8470118e-05, 4.3493424e-02, 4.4338424e-02,\n",
       "         1.9146686e-05, 4.3026754e-03, 3.1005908e-02, 1.3824275e-03,\n",
       "         3.0768881e-02, 1.8777969e-01, 3.4688137e-02, 2.6548505e-03,\n",
       "         6.6989842e-06, 2.9527133e-03]], dtype=float32),\n",
       " array([[3.9385009e-06, 1.4330901e-03, 9.6527979e-02, 9.7457215e-02,\n",
       "         8.6512486e-04, 8.5263355e-03, 3.3714448e-03, 9.7477590e-05,\n",
       "         7.0194185e-02, 4.4794377e-02, 1.2539313e-02, 1.0926867e-03,\n",
       "         1.5123886e-05, 3.7252189e-06, 3.3829641e-02, 3.0864757e-02,\n",
       "         6.9445890e-04, 1.8399040e-01, 2.8570816e-03, 5.5844397e-03,\n",
       "         2.1243071e-02, 2.0606614e-05, 4.3603845e-02, 4.3391384e-02,\n",
       "         2.1604672e-05, 4.4599054e-03, 3.1867497e-02, 1.5402250e-03,\n",
       "         3.1772405e-02, 1.8614343e-01, 3.5281152e-02, 2.8404794e-03,\n",
       "         7.6325159e-06, 3.0639516e-03]], dtype=float32),\n",
       " array([[3.6207625e-06, 1.4844603e-03, 9.6018657e-02, 9.6716508e-02,\n",
       "         8.4341312e-04, 8.5987048e-03, 3.3434713e-03, 9.3174494e-05,\n",
       "         7.1636803e-02, 4.5179222e-02, 1.1719344e-02, 1.0649074e-03,\n",
       "         1.4050593e-05, 3.3883443e-06, 3.5395097e-02, 2.9929362e-02,\n",
       "         6.8173802e-04, 1.8705446e-01, 2.8863372e-03, 5.7999273e-03,\n",
       "         2.0614387e-02, 1.8975854e-05, 4.3344606e-02, 4.5376811e-02,\n",
       "         2.0230846e-05, 4.4375928e-03, 2.9801242e-02, 1.4748824e-03,\n",
       "         3.0243840e-02, 1.8536066e-01, 3.4733888e-02, 2.8967194e-03,\n",
       "         6.9523312e-06, 3.2026295e-03]], dtype=float32),\n",
       " array([[3.7118273e-06, 1.3171342e-03, 9.6413016e-02, 9.7087689e-02,\n",
       "         8.0575678e-04, 8.1218630e-03, 3.1508137e-03, 8.9017834e-05,\n",
       "         7.1985252e-02, 4.6093043e-02, 1.2048084e-02, 1.0220994e-03,\n",
       "         1.3735460e-05, 3.3558936e-06, 3.4822356e-02, 2.9642280e-02,\n",
       "         6.4564089e-04, 1.8515527e-01, 2.7478978e-03, 5.5505382e-03,\n",
       "         2.1324065e-02, 1.8153523e-05, 4.4429071e-02, 4.4573322e-02,\n",
       "         1.9698267e-05, 4.1873395e-03, 3.0812981e-02, 1.4185898e-03,\n",
       "         3.0726716e-02, 1.8457189e-01, 3.5454482e-02, 2.7332720e-03,\n",
       "         6.5740560e-06, 3.0052245e-03]], dtype=float32),\n",
       " array([[3.6624704e-06, 1.4481533e-03, 9.7651526e-02, 9.7425707e-02,\n",
       "         8.5026742e-04, 8.3929067e-03, 3.2176229e-03, 9.1653761e-05,\n",
       "         6.9641076e-02, 4.4620655e-02, 1.1846437e-02, 1.0319981e-03,\n",
       "         1.3986603e-05, 3.4277834e-06, 3.4328252e-02, 2.9138355e-02,\n",
       "         6.8254414e-04, 1.8782698e-01, 2.8010875e-03, 5.5592703e-03,\n",
       "         2.0830855e-02, 1.9000330e-05, 4.4019338e-02, 4.4724502e-02,\n",
       "         1.9847637e-05, 4.4300654e-03, 3.0382896e-02, 1.4276407e-03,\n",
       "         3.0538309e-02, 1.8639924e-01, 3.4799159e-02, 2.7737049e-03,\n",
       "         6.7782667e-06, 3.0530649e-03]], dtype=float32),\n",
       " array([[3.9018259e-06, 1.4713533e-03, 9.7879037e-02, 9.8778613e-02,\n",
       "         8.8704983e-04, 8.4558288e-03, 3.3305171e-03, 9.4913623e-05,\n",
       "         6.9661498e-02, 4.4962104e-02, 1.1955526e-02, 1.0659093e-03,\n",
       "         1.4250811e-05, 3.5863159e-06, 3.4630936e-02, 2.9431673e-02,\n",
       "         6.9854356e-04, 1.8528524e-01, 2.8749390e-03, 5.6439405e-03,\n",
       "         2.0631490e-02, 2.0040481e-05, 4.3790847e-02, 4.4881634e-02,\n",
       "         2.0299582e-05, 4.5386897e-03, 3.0624000e-02, 1.4839598e-03,\n",
       "         3.0121490e-02, 1.8654096e-01, 3.4279976e-02, 2.8011033e-03,\n",
       "         7.1878576e-06, 3.1290227e-03]], dtype=float32),\n",
       " array([[3.98122620e-06, 1.54732307e-03, 9.88783985e-02, 9.83726680e-02,\n",
       "         9.52284492e-04, 8.42207298e-03, 3.36961821e-03, 1.01238955e-04,\n",
       "         6.98292628e-02, 4.44817096e-02, 1.18475584e-02, 1.08440546e-03,\n",
       "         1.47449382e-05, 3.80507663e-06, 3.56937163e-02, 2.93764789e-02,\n",
       "         7.23562611e-04, 1.84143171e-01, 3.00971209e-03, 5.95103530e-03,\n",
       "         2.00833268e-02, 2.09389436e-05, 4.33844328e-02, 4.69237380e-02,\n",
       "         2.11412007e-05, 4.61568590e-03, 2.92956736e-02, 1.52630277e-03,\n",
       "         2.95499079e-02, 1.87206566e-01, 3.33716981e-02, 2.97359284e-03,\n",
       "         7.38132940e-06, 3.21287103e-03]], dtype=float32),\n",
       " array([[3.74620390e-06, 1.48524740e-03, 9.87528712e-02, 9.91465524e-02,\n",
       "         8.92751385e-04, 8.36981647e-03, 3.30005237e-03, 9.33624251e-05,\n",
       "         6.95898831e-02, 4.44668010e-02, 1.17419595e-02, 1.04917260e-03,\n",
       "         1.36565741e-05, 3.45176727e-06, 3.52149606e-02, 2.91059650e-02,\n",
       "         6.97387906e-04, 1.85676828e-01, 2.87927920e-03, 5.68329543e-03,\n",
       "         2.03185361e-02, 1.94546592e-05, 4.33011428e-02, 4.53089997e-02,\n",
       "         1.97286572e-05, 4.54675220e-03, 2.99319383e-02, 1.47478282e-03,\n",
       "         2.95591131e-02, 1.87494487e-01, 3.38940658e-02, 2.80760019e-03,\n",
       "         6.88261343e-06, 3.14955064e-03]], dtype=float32),\n",
       " array([[3.7752181e-06, 1.4654559e-03, 9.7627811e-02, 9.8533481e-02,\n",
       "         8.7632349e-04, 8.4495423e-03, 3.3338452e-03, 9.5631149e-05,\n",
       "         7.0090920e-02, 4.4417150e-02, 1.2290635e-02, 1.0557040e-03,\n",
       "         1.4402319e-05, 3.5950284e-06, 3.4743529e-02, 3.0237190e-02,\n",
       "         6.9919252e-04, 1.8418407e-01, 2.8583875e-03, 5.7029463e-03,\n",
       "         2.0854324e-02, 1.9920933e-05, 4.2857207e-02, 4.4478364e-02,\n",
       "         2.0643793e-05, 4.4746147e-03, 3.0784788e-02, 1.5284648e-03,\n",
       "         3.0915685e-02, 1.8673091e-01, 3.4642708e-02, 2.8643361e-03,\n",
       "         7.1760646e-06, 3.1372444e-03]], dtype=float32),\n",
       " array([[3.8542344e-06, 1.4347243e-03, 9.7719021e-02, 9.7785212e-02,\n",
       "         8.5722306e-04, 8.2379505e-03, 3.1873276e-03, 9.3551673e-05,\n",
       "         7.0652492e-02, 4.4800080e-02, 1.1983259e-02, 1.0346619e-03,\n",
       "         1.3892475e-05, 3.5073394e-06, 3.4253720e-02, 2.9047433e-02,\n",
       "         6.7672314e-04, 1.8532063e-01, 2.8203845e-03, 5.6416630e-03,\n",
       "         2.0279123e-02, 1.9056612e-05, 4.3176256e-02, 4.4978306e-02,\n",
       "         2.0076301e-05, 4.3246159e-03, 3.0436952e-02, 1.4631794e-03,\n",
       "         3.0440921e-02, 1.8850663e-01, 3.5027962e-02, 2.7623009e-03,\n",
       "         6.7878559e-06, 2.9905047e-03]], dtype=float32),\n",
       " array([[3.79005110e-06, 1.47917855e-03, 9.95621160e-02, 1.00095801e-01,\n",
       "         9.08225891e-04, 8.40742141e-03, 3.32346535e-03, 9.65562504e-05,\n",
       "         6.98470622e-02, 4.47558798e-02, 1.15175964e-02, 1.02355098e-03,\n",
       "         1.44941805e-05, 3.57326780e-06, 3.58774439e-02, 2.84675378e-02,\n",
       "         7.10018154e-04, 1.80229023e-01, 2.89729540e-03, 5.95482811e-03,\n",
       "         2.00977661e-02, 1.96861965e-05, 4.27540727e-02, 4.79637980e-02,\n",
       "         2.02645133e-05, 4.66391724e-03, 2.95222905e-02, 1.46850478e-03,\n",
       "         3.01278438e-02, 1.88553095e-01, 3.34975310e-02, 2.89238966e-03,\n",
       "         6.91197420e-06, 3.23705282e-03]], dtype=float32),\n",
       " array([[3.7008551e-06, 1.5209884e-03, 9.8476082e-02, 9.8285154e-02,\n",
       "         8.8700745e-04, 8.3779218e-03, 3.2461090e-03, 9.3588962e-05,\n",
       "         6.9729507e-02, 4.4060111e-02, 1.1692635e-02, 1.0343811e-03,\n",
       "         1.3967945e-05, 3.4806321e-06, 3.5467029e-02, 2.8790163e-02,\n",
       "         7.1069394e-04, 1.8713439e-01, 2.8676032e-03, 5.7472000e-03,\n",
       "         2.0587875e-02, 1.9291452e-05, 4.3603789e-02, 4.5808844e-02,\n",
       "         2.0031375e-05, 4.5318580e-03, 2.9515827e-02, 1.4541573e-03,\n",
       "         2.9737057e-02, 1.8633762e-01, 3.4206778e-02, 2.8585952e-03,\n",
       "         6.7408791e-06, 3.1698381e-03]], dtype=float32),\n",
       " array([[3.8880999e-06, 1.5152548e-03, 9.8346360e-02, 9.9431507e-02,\n",
       "         9.0827979e-04, 8.4395856e-03, 3.3351586e-03, 9.5549789e-05,\n",
       "         6.9584176e-02, 4.4601262e-02, 1.1816783e-02, 1.0567139e-03,\n",
       "         1.4095046e-05, 3.5967826e-06, 3.5361871e-02, 2.9095275e-02,\n",
       "         7.1372546e-04, 1.8499342e-01, 2.9064647e-03, 5.7676570e-03,\n",
       "         2.0428380e-02, 2.0052157e-05, 4.3327350e-02, 4.5714673e-02,\n",
       "         2.0201720e-05, 4.5900526e-03, 2.9995997e-02, 1.4950865e-03,\n",
       "         2.9552646e-02, 1.8692896e-01, 3.3872396e-02, 2.8513742e-03,\n",
       "         7.0735782e-06, 3.2051324e-03]], dtype=float32),\n",
       " array([[3.8216535e-06, 1.5073016e-03, 9.8844185e-02, 9.9432521e-02,\n",
       "         9.0378604e-04, 8.4204301e-03, 3.3140827e-03, 9.4221446e-05,\n",
       "         6.9565378e-02, 4.4623729e-02, 1.1793864e-02, 1.0473783e-03,\n",
       "         1.3866618e-05, 3.5254566e-06, 3.5413876e-02, 2.9034721e-02,\n",
       "         7.0663320e-04, 1.8542670e-01, 2.8932712e-03, 5.7533639e-03,\n",
       "         2.0380730e-02, 1.9731871e-05, 4.3211199e-02, 4.5644704e-02,\n",
       "         1.9882344e-05, 4.5641186e-03, 2.9945200e-02, 1.4870313e-03,\n",
       "         2.9539524e-02, 1.8647408e-01, 3.3877432e-02, 2.8381506e-03,\n",
       "         6.9498028e-06, 3.1946297e-03]], dtype=float32),\n",
       " array([[3.8688286e-06, 1.5207136e-03, 9.8831318e-02, 9.9447466e-02,\n",
       "         9.1188011e-04, 8.4429970e-03, 3.3285646e-03, 9.5138785e-05,\n",
       "         6.9586702e-02, 4.4674654e-02, 1.1811668e-02, 1.0524704e-03,\n",
       "         1.4010011e-05, 3.5694686e-06, 3.5526443e-02, 2.9022098e-02,\n",
       "         7.1260036e-04, 1.8518516e-01, 2.9078671e-03, 5.7809134e-03,\n",
       "         2.0385265e-02, 1.9950408e-05, 4.3159712e-02, 4.5717351e-02,\n",
       "         2.0069332e-05, 4.5861877e-03, 2.9893443e-02, 1.4964369e-03,\n",
       "         2.9520424e-02, 1.8639043e-01, 3.3873104e-02, 2.8552865e-03,\n",
       "         7.0203905e-06, 3.2152608e-03]], dtype=float32),\n",
       " array([[3.6705756e-06, 1.4672142e-03, 9.7910821e-02, 9.8990574e-02,\n",
       "         8.7132619e-04, 8.4043620e-03, 3.2947655e-03, 9.3764342e-05,\n",
       "         6.9884412e-02, 4.4362105e-02, 1.2168898e-02, 1.0327483e-03,\n",
       "         1.3971111e-05, 3.5040048e-06, 3.4934483e-02, 2.9980781e-02,\n",
       "         6.9289701e-04, 1.8464269e-01, 2.8364444e-03, 5.7246359e-03,\n",
       "         2.0713046e-02, 1.9414734e-05, 4.2521775e-02, 4.4937756e-02,\n",
       "         2.0017387e-05, 4.4491128e-03, 3.0426405e-02, 1.5119837e-03,\n",
       "         3.0620482e-02, 1.8706651e-01, 3.4387305e-02, 2.8580383e-03,\n",
       "         6.9134380e-06, 3.1471418e-03]], dtype=float32),\n",
       " array([[2.90913431e-06, 1.30858878e-03, 1.00359596e-01, 1.04305774e-01,\n",
       "         7.53680652e-04, 7.70666311e-03, 2.89009442e-03, 7.63422649e-05,\n",
       "         7.17909485e-02, 4.34384681e-02, 1.06538804e-02, 8.54135549e-04,\n",
       "         1.10350020e-05, 2.71888530e-06, 3.70196924e-02, 2.77302600e-02,\n",
       "         5.74969163e-04, 1.85503110e-01, 2.53659277e-03, 5.64430002e-03,\n",
       "         1.93440113e-02, 1.50222641e-05, 4.11234125e-02, 4.93238606e-02,\n",
       "         1.53227738e-05, 4.04056162e-03, 2.80673802e-02, 1.27575325e-03,\n",
       "         2.72819083e-02, 1.88138276e-01, 3.26415077e-02, 2.67090253e-03,\n",
       "         5.07107097e-06, 2.89322156e-03]], dtype=float32),\n",
       " array([[4.2081424e-06, 1.6247472e-03, 9.7726367e-02, 9.8544389e-02,\n",
       "         9.4673276e-04, 8.5809520e-03, 3.3885124e-03, 1.0255682e-04,\n",
       "         7.0093691e-02, 4.4654123e-02, 1.1872040e-02, 1.0733650e-03,\n",
       "         1.5636488e-05, 3.9918600e-06, 3.6402278e-02, 2.8657841e-02,\n",
       "         7.5930567e-04, 1.8476591e-01, 2.9872034e-03, 6.0045836e-03,\n",
       "         2.0689469e-02, 2.1612415e-05, 4.3437969e-02, 4.6699412e-02,\n",
       "         2.2040282e-05, 4.7082715e-03, 2.9296337e-02, 1.5323395e-03,\n",
       "         2.9611714e-02, 1.8538870e-01, 3.4036245e-02, 3.0118541e-03,\n",
       "         7.5016819e-06, 3.3281450e-03]], dtype=float32),\n",
       " array([[3.4862346e-06, 1.4570147e-03, 9.9026464e-02, 1.0026253e-01,\n",
       "         8.6424564e-04, 8.2324557e-03, 3.1939591e-03, 8.8152548e-05,\n",
       "         6.9147944e-02, 4.4347532e-02, 1.1480521e-02, 9.9116261e-04,\n",
       "         1.2683238e-05, 3.2309624e-06, 3.5356779e-02, 2.8600231e-02,\n",
       "         6.7401497e-04, 1.8690652e-01, 2.8017920e-03, 5.6768646e-03,\n",
       "         2.0068940e-02, 1.8179062e-05, 4.2719491e-02, 4.6250563e-02,\n",
       "         1.8223447e-05, 4.4438303e-03, 2.9339179e-02, 1.4218189e-03,\n",
       "         2.9038206e-02, 1.8829916e-01, 3.3359352e-02, 2.7589398e-03,\n",
       "         6.2856320e-06, 3.1302369e-03]], dtype=float32),\n",
       " array([[4.2180363e-06, 1.6493757e-03, 9.8953933e-02, 9.9302664e-02,\n",
       "         1.0059342e-03, 8.5103652e-03, 3.4334136e-03, 1.0617506e-04,\n",
       "         6.9719091e-02, 4.4515926e-02, 1.1798646e-02, 1.0881042e-03,\n",
       "         1.5353578e-05, 4.0764803e-06, 3.6833268e-02, 2.8909557e-02,\n",
       "         7.6156389e-04, 1.8299925e-01, 3.0932461e-03, 6.2221708e-03,\n",
       "         1.9984188e-02, 2.2002112e-05, 4.2801213e-02, 4.8429687e-02,\n",
       "         2.1885358e-05, 4.7444631e-03, 2.8537873e-02, 1.5732960e-03,\n",
       "         2.8922744e-02, 1.8666168e-01, 3.2880079e-02, 3.1069021e-03,\n",
       "         7.6053288e-06, 3.3800318e-03]], dtype=float32),\n",
       " array([[3.1038069e-06, 1.5771996e-03, 1.0342120e-01, 1.0377511e-01,\n",
       "         9.1617776e-04, 7.8324210e-03, 3.1730980e-03, 9.0530702e-05,\n",
       "         7.1058586e-02, 4.2708438e-02, 1.0144336e-02, 9.2346116e-04,\n",
       "         1.1743139e-05, 2.9608370e-06, 4.0572140e-02, 2.5788667e-02,\n",
       "         6.9848378e-04, 1.7917348e-01, 2.9182537e-03, 6.2022023e-03,\n",
       "         1.8114792e-02, 1.6883983e-05, 4.0012136e-02, 5.3548049e-02,\n",
       "         1.7405291e-05, 4.7206306e-03, 2.4887094e-02, 1.3751830e-03,\n",
       "         2.5281781e-02, 1.9554821e-01, 2.9279388e-02, 2.9120038e-03,\n",
       "         5.5112259e-06, 3.2894069e-03]], dtype=float32),\n",
       " array([[3.71625674e-06, 1.74804486e-03, 1.02736033e-01, 1.03452064e-01,\n",
       "         1.02768186e-03, 8.05202220e-03, 3.39572085e-03, 1.04633385e-04,\n",
       "         7.16055259e-02, 4.25921082e-02, 1.03022959e-02, 9.99537646e-04,\n",
       "         1.37510897e-05, 3.57285307e-06, 4.23979685e-02, 2.55840216e-02,\n",
       "         7.86940975e-04, 1.76287815e-01, 3.14731360e-03, 6.59498945e-03,\n",
       "         1.81473866e-02, 1.98855341e-05, 4.00581434e-02, 5.48006594e-02,\n",
       "         2.03782420e-05, 5.07535459e-03, 2.45414432e-02, 1.48781750e-03,\n",
       "         2.48139985e-02, 1.94621608e-01, 2.88858153e-02, 3.14843957e-03,\n",
       "         6.49709136e-06, 3.53678642e-03]], dtype=float32),\n",
       " array([[3.2983946e-06, 1.6753667e-03, 1.0391038e-01, 1.0380452e-01,\n",
       "         9.8169863e-04, 7.8148302e-03, 3.2582954e-03, 9.6612530e-05,\n",
       "         7.1363218e-02, 4.1892290e-02, 9.9622710e-03, 9.4773300e-04,\n",
       "         1.2274427e-05, 3.1671834e-06, 4.2509925e-02, 2.5189072e-02,\n",
       "         7.4672792e-04, 1.7797054e-01, 3.0500528e-03, 6.4666769e-03,\n",
       "         1.7764734e-02, 1.7943592e-05, 3.9536413e-02, 5.5076245e-02,\n",
       "         1.8456858e-05, 4.9398462e-03, 2.4007838e-02, 1.4148592e-03,\n",
       "         2.4311721e-02, 1.9635706e-01, 2.8414473e-02, 3.0357447e-03,\n",
       "         5.7788461e-06, 3.4400022e-03]], dtype=float32),\n",
       " array([[3.57213094e-06, 1.74732402e-03, 1.03606805e-01, 1.03679903e-01,\n",
       "         1.02827197e-03, 7.92889390e-03, 3.35298921e-03, 1.02614904e-04,\n",
       "         7.16195256e-02, 4.19683084e-02, 1.00676687e-02, 9.80821904e-04,\n",
       "         1.31764036e-05, 3.44016939e-06, 4.31511253e-02, 2.52174623e-02,\n",
       "         7.83902477e-04, 1.76623449e-01, 3.14239785e-03, 6.63317367e-03,\n",
       "         1.78697966e-02, 1.92557709e-05, 3.95791419e-02, 5.54596633e-02,\n",
       "         1.97471036e-05, 5.07774437e-03, 2.39804108e-02, 1.46611081e-03,\n",
       "         2.42599137e-02, 1.95511743e-01, 2.84093767e-02, 3.13791167e-03,\n",
       "         6.22014113e-06, 3.54816928e-03]], dtype=float32),\n",
       " array([[3.38913947e-06, 1.71443797e-03, 1.04072712e-01, 1.03862159e-01,\n",
       "         1.00694713e-03, 7.82930478e-03, 3.29089840e-03, 9.89812470e-05,\n",
       "         7.14875087e-02, 4.16988060e-02, 9.92389955e-03, 9.57080571e-04,\n",
       "         1.25334045e-05, 3.26290547e-06, 4.31610048e-02, 2.50523221e-02,\n",
       "         7.65398727e-04, 1.77377552e-01, 3.09617026e-03, 6.57461723e-03,\n",
       "         1.77164953e-02, 1.83942248e-05, 3.93451303e-02, 5.55847771e-02,\n",
       "         1.88890299e-05, 5.01264725e-03, 2.37571895e-02, 1.43395434e-03,\n",
       "         2.40606256e-02, 1.96241289e-01, 2.82236449e-02, 3.08753550e-03,\n",
       "         5.90358195e-06, 3.50461015e-03]], dtype=float32),\n",
       " array([[3.5065952e-06, 1.7463107e-03, 1.0392675e-01, 1.0383315e-01,\n",
       "         1.0269751e-03, 7.8796400e-03, 3.3305206e-03, 1.0153528e-04,\n",
       "         7.1580380e-02, 4.1746579e-02, 9.9681485e-03, 9.7030395e-04,\n",
       "         1.2916150e-05, 3.3811637e-06, 4.3436632e-02, 2.5057072e-02,\n",
       "         7.8133849e-04, 1.7681229e-01, 3.1347449e-03, 6.6489852e-03,\n",
       "         1.7761571e-02, 1.8952478e-05, 3.9354093e-02, 5.5781469e-02,\n",
       "         1.9428382e-05, 5.0702584e-03, 2.3737608e-02, 1.4557696e-03,\n",
       "         2.4034077e-02, 1.9585732e-01, 2.8217306e-02, 3.1322602e-03,\n",
       "         6.0875109e-06, 3.5527479e-03]], dtype=float32),\n",
       " array([[3.4259849e-06, 1.7327858e-03, 1.0412780e-01, 1.0393446e-01,\n",
       "         1.0176501e-03, 7.8366157e-03, 3.3026703e-03, 9.9920071e-05,\n",
       "         7.1508378e-02, 4.1636415e-02, 9.9035334e-03, 9.5915404e-04,\n",
       "         1.2630671e-05, 3.3037488e-06, 4.3448716e-02, 2.4975011e-02,\n",
       "         7.7317108e-04, 1.7714830e-01, 3.1138251e-03, 6.6259624e-03,\n",
       "         1.7691933e-02, 1.8569619e-05, 3.9240625e-02, 5.5869412e-02,\n",
       "         1.9039759e-05, 5.0411266e-03, 2.3629338e-02, 1.4415329e-03,\n",
       "         2.3938924e-02, 1.9616535e-01, 2.8128481e-02, 3.1108425e-03,\n",
       "         5.9446897e-06, 3.5351745e-03]], dtype=float32),\n",
       " array([[3.47555124e-06, 1.74762215e-03, 1.04066677e-01, 1.03943616e-01,\n",
       "         1.02647254e-03, 7.85816368e-03, 3.31907463e-03, 1.01000689e-04,\n",
       "         7.15352669e-02, 4.16599028e-02, 9.91969090e-03, 9.64089530e-04,\n",
       "         1.27886251e-05, 3.35448522e-06, 4.35803719e-02, 2.49659754e-02,\n",
       "         7.80081144e-04, 1.76908627e-01, 3.13009741e-03, 6.66113244e-03,\n",
       "         1.77072678e-02, 1.88030644e-05, 3.92318927e-02, 5.59885576e-02,\n",
       "         1.92578173e-05, 5.06588304e-03, 2.36077160e-02, 1.45077019e-03,\n",
       "         2.39169337e-02, 1.95994779e-01, 2.81160399e-02, 3.13093630e-03,\n",
       "         6.01833199e-06, 3.55772441e-03]], dtype=float32),\n",
       " array([[3.4395662e-06, 1.7427178e-03, 1.0415815e-01, 1.0400721e-01,\n",
       "         1.0226090e-03, 7.8391675e-03, 3.3064142e-03, 1.0028189e-04,\n",
       "         7.1492679e-02, 4.1613005e-02, 9.8887682e-03, 9.5860305e-04,\n",
       "         1.2658594e-05, 3.3205233e-06, 4.3599233e-02, 2.4919787e-02,\n",
       "         7.7657594e-04, 1.7705673e-01, 3.1207819e-03, 6.6539641e-03,\n",
       "         1.7672848e-02, 1.8630579e-05, 3.9170407e-02, 5.6058429e-02,\n",
       "         1.9077028e-05, 5.0533358e-03, 2.3547903e-02, 1.4444463e-03,\n",
       "         2.3865184e-02, 1.9612561e-01, 2.8067941e-02, 3.1223658e-03,\n",
       "         5.9516474e-06, 3.5516978e-03]], dtype=float32),\n",
       " array([[3.4600016e-06, 1.7500883e-03, 1.0413649e-01, 1.0402934e-01,\n",
       "         1.0266430e-03, 7.8480570e-03, 3.3129761e-03, 1.0073376e-04,\n",
       "         7.1494266e-02, 4.1623004e-02, 9.8928381e-03, 9.6013694e-04,\n",
       "         1.2720621e-05, 3.3420995e-06, 4.3670077e-02, 2.4905903e-02,\n",
       "         7.7963277e-04, 1.7695442e-01, 3.1276839e-03, 6.6719544e-03,\n",
       "         1.7675329e-02, 1.8725439e-05, 3.9154775e-02, 5.6139693e-02,\n",
       "         1.9159741e-05, 5.0642393e-03, 2.3526089e-02, 1.4483159e-03,\n",
       "         2.3845475e-02, 1.9605033e-01, 2.8053308e-02, 3.1318073e-03,\n",
       "         5.9788031e-06, 3.5630369e-03]], dtype=float32),\n",
       " array([[3.4435639e-06, 1.7488246e-03, 1.0418098e-01, 1.0407330e-01,\n",
       "         1.0251789e-03, 7.8394003e-03, 3.3070343e-03, 1.0041012e-04,\n",
       "         7.1466975e-02, 4.1602008e-02, 9.8767430e-03, 9.5723831e-04,\n",
       "         1.2658897e-05, 3.3270819e-06, 4.3691561e-02, 2.4876744e-02,\n",
       "         7.7818695e-04, 1.7701925e-01, 3.1235630e-03, 6.6713840e-03,\n",
       "         1.7656570e-02, 1.8645616e-05, 3.9117228e-02, 5.6196906e-02,\n",
       "         1.9071700e-05, 5.0590504e-03, 2.3488643e-02, 1.4454763e-03,\n",
       "         2.3813576e-02, 1.9610617e-01, 2.8023897e-02, 3.1287894e-03,\n",
       "         5.9459408e-06, 3.5618583e-03]], dtype=float32),\n",
       " array([[3.45160220e-06, 1.75280962e-03, 1.04176223e-01, 1.04097776e-01,\n",
       "         1.02712808e-03, 7.84282200e-03, 3.30945314e-03, 1.00594407e-04,\n",
       "         7.14598969e-02, 4.16054092e-02, 9.87597182e-03, 9.57427896e-04,\n",
       "         1.26806290e-05, 3.33612343e-06, 4.37346436e-02, 2.48624403e-02,\n",
       "         7.79583177e-04, 1.76975176e-01, 3.12649785e-03, 6.68152794e-03,\n",
       "         1.76540911e-02, 1.86818852e-05, 3.91003676e-02, 5.62567227e-02,\n",
       "         1.90984319e-05, 5.06400410e-03, 2.34685652e-02, 1.44705991e-03,\n",
       "         2.37963162e-02, 1.96073011e-01, 2.80096810e-02, 3.13353050e-03,\n",
       "         5.95394522e-06, 3.56810121e-03]], dtype=float32)]"
      ]
     },
     "execution_count": 25,
     "metadata": {},
     "output_type": "execute_result"
    }
   ],
   "source": [
    "a0 = np.zeros((1, n_a))\n",
    "c0 = np.zeros((1, n_a))\n",
    "model.predict([X_onehot[0:1, :, :], a0, c0])"
   ]
  },
  {
   "cell_type": "markdown",
   "metadata": {},
   "source": [
    "## Molecular to Vector"
   ]
  },
  {
   "cell_type": "code",
   "execution_count": 26,
   "metadata": {},
   "outputs": [],
   "source": [
    "def Mole2Vec(Tx, n_a, n_values):\n",
    "    \"\"\"\n",
    "    Implement the model\n",
    "    \n",
    "    Arguments:\n",
    "    Tx -- length of the smiles\n",
    "    n_a -- the number of activations used in our model\n",
    "    n_values -- number of unique atom in smiles\n",
    "    \n",
    "    Returns:\n",
    "    model -- a keras model with the \n",
    "    \"\"\"\n",
    "    \n",
    "    # Define the input of your model with a shape \n",
    "    X = Input(shape=(Tx, n_values))\n",
    "    \n",
    "    # Define s0, initial hidden state for the decoder LSTM\n",
    "    a0 = Input(shape=(n_a,), name='a0')\n",
    "    c0 = Input(shape=(n_a,), name='c0')\n",
    "    a = a0\n",
    "    c = c0\n",
    "  \n",
    "    # Step 2: Loop\n",
    "    for t in range(Tx):\n",
    "        \n",
    "        # Step 2.A: select the \"t\"th time step vector from X. \n",
    "        x = Lambda(lambda x: X[:,t,:])(X)\n",
    "        # Step 2.B: Use reshapor to reshape x to be (1, n_values)\n",
    "        x = reshapor(x)\n",
    "        # Step 2.C: Perform one step of the LSTM_cell\n",
    "        a, _, c = LSTM_cell(x, initial_state=[a, c])\n",
    "    \n",
    "    \n",
    "    # Step 3: finall embeddding a output\n",
    "    model = Model(inputs=[X, a0, c0], outputs=a)\n",
    "    \n",
    "    ### END CODE HERE ###\n",
    "    \n",
    "    return model"
   ]
  },
  {
   "cell_type": "markdown",
   "metadata": {},
   "source": [
    "## Test Molecular Embedding"
   ]
  },
  {
   "cell_type": "code",
   "execution_count": 31,
   "metadata": {},
   "outputs": [],
   "source": [
    "model = Mole2Vec(Tx = maxLen , n_a = n_a, n_values = n_values)"
   ]
  },
  {
   "cell_type": "code",
   "execution_count": 32,
   "metadata": {
    "scrolled": false
   },
   "outputs": [
    {
     "name": "stdout",
     "output_type": "stream",
     "text": [
      "(1, 200)\n"
     ]
    },
    {
     "data": {
      "text/plain": [
       "array([[ 1.70674324e-01,  3.78974319e-01, -0.00000000e+00,\n",
       "         4.96301660e-03, -3.02081883e-01, -3.29183817e-01,\n",
       "        -0.00000000e+00,  1.41109094e-01,  3.86736810e-01,\n",
       "        -2.11374789e-01,  0.00000000e+00, -2.09992558e-01,\n",
       "         0.00000000e+00, -5.47144515e-03, -2.71852493e-01,\n",
       "         2.12911755e-01,  6.26392569e-03, -3.88889611e-02,\n",
       "         1.31163429e-02, -3.36230308e-01,  2.54168302e-01,\n",
       "         3.06907654e-01,  1.48576930e-01,  2.17359099e-11,\n",
       "         2.47958452e-01, -8.69196653e-02,  0.00000000e+00,\n",
       "        -0.00000000e+00,  0.00000000e+00, -8.46613199e-02,\n",
       "        -3.20550323e-01,  3.25022101e-01,  3.16932857e-01,\n",
       "         4.17709827e-01, -0.00000000e+00, -1.04115762e-01,\n",
       "         3.39985490e-02,  1.78317130e-01,  2.78045045e-04,\n",
       "        -3.54396887e-02, -2.79378831e-01,  0.00000000e+00,\n",
       "        -1.18074395e-01,  1.55286696e-02,  3.73035669e-01,\n",
       "        -2.15533980e-11, -5.39544132e-03,  2.55992770e-01,\n",
       "        -2.65370816e-01, -1.50797039e-03,  2.20169291e-01,\n",
       "        -0.00000000e+00, -8.72933865e-03, -3.37381363e-01,\n",
       "         3.22811306e-01, -3.76092643e-01,  2.58986771e-01,\n",
       "         4.10000622e-01,  0.00000000e+00,  5.78514184e-04,\n",
       "         2.06186146e-01, -0.00000000e+00, -3.07655841e-01,\n",
       "        -2.28871405e-01,  8.72337185e-12,  2.76090980e-01,\n",
       "         3.51919353e-01, -1.83084179e-02,  1.16148196e-01,\n",
       "        -2.29250477e-03, -2.35677194e-02,  8.54257401e-03,\n",
       "         4.52159569e-02,  3.42678547e-01, -0.00000000e+00,\n",
       "        -0.00000000e+00,  3.01007152e-01,  2.53019571e-01,\n",
       "         4.95743798e-03,  2.41417646e-01,  2.14810222e-01,\n",
       "        -3.00010145e-01, -5.62796183e-02, -0.00000000e+00,\n",
       "        -1.48325339e-02, -3.72882307e-01,  1.48332035e-02,\n",
       "        -3.54349439e-04, -1.51578188e-01,  3.61841023e-01,\n",
       "        -2.98480868e-01, -1.73776202e-10,  3.57903659e-01,\n",
       "        -4.00228173e-01, -2.54177377e-02, -4.42110142e-03,\n",
       "         1.95853263e-01, -3.93354982e-01,  0.00000000e+00,\n",
       "        -3.47668827e-01, -4.26534981e-01,  6.67870510e-03,\n",
       "        -3.23438406e-01, -3.35067064e-01,  3.75461251e-01,\n",
       "         0.00000000e+00, -0.00000000e+00,  4.16068316e-01,\n",
       "        -0.00000000e+00,  1.01478985e-02, -0.00000000e+00,\n",
       "         1.26264274e-01, -3.70602518e-01, -2.83141583e-01,\n",
       "        -4.18953598e-01, -0.00000000e+00, -7.01229787e-03,\n",
       "        -1.92791801e-02,  1.73399828e-13, -6.61841621e-13,\n",
       "        -1.23489869e-03,  5.31970896e-02, -3.40726852e-01,\n",
       "        -3.54891866e-02,  2.89924145e-01,  1.32767335e-02,\n",
       "        -0.00000000e+00,  2.37122178e-01, -2.71038145e-01,\n",
       "        -2.30736494e-01, -2.92972744e-01, -2.55706813e-02,\n",
       "        -5.87009685e-03, -7.88571239e-02,  0.00000000e+00,\n",
       "        -3.88386279e-01,  3.62914324e-01,  2.33964325e-04,\n",
       "        -4.02585238e-01, -1.13264946e-02, -1.02926176e-02,\n",
       "        -3.92556749e-02,  0.00000000e+00, -3.43669951e-01,\n",
       "        -3.61274958e-01,  9.55725238e-02, -9.64822422e-04,\n",
       "        -1.27925545e-01, -3.07999909e-01,  0.00000000e+00,\n",
       "         6.58356100e-02,  7.41791278e-02, -0.00000000e+00,\n",
       "        -1.29281476e-01, -0.00000000e+00,  2.45203257e-01,\n",
       "         3.24298680e-01,  3.23681176e-01,  1.15830055e-03,\n",
       "         0.00000000e+00, -5.48676312e-01,  4.99871792e-04,\n",
       "        -3.76490653e-01, -4.04145241e-01, -1.70948744e-01,\n",
       "        -0.00000000e+00, -2.26631314e-01, -1.10457273e-04,\n",
       "        -2.35300027e-02,  3.65618229e-01,  0.00000000e+00,\n",
       "        -7.65507221e-02, -2.42490694e-03,  1.41100138e-01,\n",
       "        -9.65585262e-02,  3.11786716e-04,  3.12719971e-01,\n",
       "        -1.41097815e-03,  0.00000000e+00,  3.76791656e-01,\n",
       "        -2.97574699e-01,  3.35246444e-01, -5.13439393e-03,\n",
       "         2.58968933e-03, -1.05067849e-01, -2.37715859e-02,\n",
       "         0.00000000e+00, -3.82493198e-01, -3.51765335e-01,\n",
       "        -2.36970693e-01,  1.31236032e-01,  0.00000000e+00,\n",
       "         4.72822739e-03,  3.49215358e-01,  0.00000000e+00,\n",
       "        -0.00000000e+00, -2.01955900e-01, -9.15928632e-02,\n",
       "        -1.96129531e-01, -8.26120004e-03]], dtype=float32)"
      ]
     },
     "execution_count": 32,
     "metadata": {},
     "output_type": "execute_result"
    }
   ],
   "source": [
    "a0 = np.zeros((1, n_a))\n",
    "c0 = np.zeros((1, n_a))\n",
    "smilesembedding = model.predict([X_onehot[0:1, :, :], a0, c0])\n",
    "print(smilesembedding.shape)\n",
    "smilesembedding"
   ]
  }
 ],
 "metadata": {
  "coursera": {
   "course_slug": "nlp-sequence-models",
   "graded_item_id": "1dYg0",
   "launcher_item_id": "MLhxP"
  },
  "kernelspec": {
   "display_name": "Python 3",
   "language": "python",
   "name": "python3"
  },
  "language_info": {
   "codemirror_mode": {
    "name": "ipython",
    "version": 3
   },
   "file_extension": ".py",
   "mimetype": "text/x-python",
   "name": "python",
   "nbconvert_exporter": "python",
   "pygments_lexer": "ipython3",
   "version": "3.6.5"
  }
 },
 "nbformat": 4,
 "nbformat_minor": 2
}
