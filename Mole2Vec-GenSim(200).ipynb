{
 "cells": [
  {
   "cell_type": "code",
   "execution_count": 10,
   "metadata": {},
   "outputs": [],
   "source": [
    "import numpy as np\n",
    "import pandas as pd\n",
    "from utils import *\n",
    "import random\n",
    "from rdkit import Chem\n",
    "from rdkit.Chem import AllChem\n",
    "from rdkit.Chem import Draw\n",
    "import matplotlib.pyplot as plt\n",
    "from keras.preprocessing.sequence import pad_sequences\n",
    "from keras.preprocessing.text import Tokenizer\n",
    "from scipy import stats\n",
    "\n",
    "\n",
    "from keras.models import Model\n",
    "from keras.models import load_model\n",
    "from keras.layers import Input, Dense, Reshape, merge, Dot, Concatenate\n",
    "from keras.layers.embeddings import Embedding\n",
    "from keras.preprocessing.sequence import skipgrams\n",
    "from keras.preprocessing import sequence\n",
    "\n",
    "\n",
    "from gensim.models.word2vec import Word2Vec\n",
    "from sklearn.manifold import TSNE"
   ]
  },
  {
   "cell_type": "markdown",
   "metadata": {},
   "source": [
    "# 2. Smiles to Index"
   ]
  },
  {
   "cell_type": "markdown",
   "metadata": {},
   "source": [
    "## Read smiles from data"
   ]
  },
  {
   "cell_type": "code",
   "execution_count": 3,
   "metadata": {},
   "outputs": [
    {
     "data": {
      "text/html": [
       "<div>\n",
       "<style>\n",
       "    .dataframe thead tr:only-child th {\n",
       "        text-align: right;\n",
       "    }\n",
       "\n",
       "    .dataframe thead th {\n",
       "        text-align: left;\n",
       "    }\n",
       "\n",
       "    .dataframe tbody tr th {\n",
       "        vertical-align: top;\n",
       "    }\n",
       "</style>\n",
       "<table border=\"1\" class=\"dataframe\">\n",
       "  <thead>\n",
       "    <tr style=\"text-align: right;\">\n",
       "      <th></th>\n",
       "      <th>smiles</th>\n",
       "      <th>lens</th>\n",
       "    </tr>\n",
       "  </thead>\n",
       "  <tbody>\n",
       "    <tr>\n",
       "      <th>0</th>\n",
       "      <td>S([C@@H](C(=O)N1CCCC1)C)C1=NC(=O)c2c(N1)ccc(F)c2</td>\n",
       "      <td>48</td>\n",
       "    </tr>\n",
       "    <tr>\n",
       "      <th>1</th>\n",
       "      <td>O=C(NCC1(Cn2nccc2)CC1)c1nnc([O-])c2c1cccc2</td>\n",
       "      <td>42</td>\n",
       "    </tr>\n",
       "    <tr>\n",
       "      <th>2</th>\n",
       "      <td>S(=O)(=O)(CCN[C@@H]([C@H](C)n1nccc1)C)c1ccccc1</td>\n",
       "      <td>46</td>\n",
       "    </tr>\n",
       "    <tr>\n",
       "      <th>3</th>\n",
       "      <td>S(CCC(=O)N1CCNCC1)Cc1ccc(C)cc1</td>\n",
       "      <td>30</td>\n",
       "    </tr>\n",
       "    <tr>\n",
       "      <th>4</th>\n",
       "      <td>Fc1c(CNC2CCN(C(=O)c3cocc3)CC2)c(F)ccc1</td>\n",
       "      <td>38</td>\n",
       "    </tr>\n",
       "  </tbody>\n",
       "</table>\n",
       "</div>"
      ],
      "text/plain": [
       "                                             smiles  lens\n",
       "0  S([C@@H](C(=O)N1CCCC1)C)C1=NC(=O)c2c(N1)ccc(F)c2    48\n",
       "1        O=C(NCC1(Cn2nccc2)CC1)c1nnc([O-])c2c1cccc2    42\n",
       "2    S(=O)(=O)(CCN[C@@H]([C@H](C)n1nccc1)C)c1ccccc1    46\n",
       "3                    S(CCC(=O)N1CCNCC1)Cc1ccc(C)cc1    30\n",
       "4            Fc1c(CNC2CCN(C(=O)c3cocc3)CC2)c(F)ccc1    38"
      ]
     },
     "execution_count": 3,
     "metadata": {},
     "output_type": "execute_result"
    }
   ],
   "source": [
    "smiles_pd = pd.read_csv('finalsmiles_pd.csv')\n",
    "smiles_pd.head()"
   ]
  },
  {
   "cell_type": "code",
   "execution_count": 4,
   "metadata": {},
   "outputs": [
    {
     "data": {
      "text/plain": [
       "(2883247, 2)"
      ]
     },
     "execution_count": 4,
     "metadata": {},
     "output_type": "execute_result"
    }
   ],
   "source": [
    "smiles_pd.shape"
   ]
  },
  {
   "cell_type": "markdown",
   "metadata": {},
   "source": [
    "## Smiles to Char list"
   ]
  },
  {
   "cell_type": "code",
   "execution_count": 4,
   "metadata": {},
   "outputs": [],
   "source": [
    "smileslist = smiles_pd['smiles']"
   ]
  },
  {
   "cell_type": "code",
   "execution_count": 5,
   "metadata": {},
   "outputs": [],
   "source": [
    "datawithnextline = '\\n'.join(smileslist)\n",
    "data = ''.join(smileslist)"
   ]
  },
  {
   "cell_type": "code",
   "execution_count": 6,
   "metadata": {},
   "outputs": [],
   "source": [
    "#chars = set(data)\n",
    "def precess_smiles_as_charlist(data):\n",
    "\n",
    "    allchars = []\n",
    "\n",
    "    i = 0\n",
    "\n",
    "    while i < len(data):\n",
    "\n",
    "        if data[i] == 'B' and data[i+1] == 'r':\n",
    "            allchars.append('Br')\n",
    "            i += 1\n",
    "\n",
    "        elif data[i] == 'C' and data[i+1] == 'l':\n",
    "            allchars.append('Cl')\n",
    "            i += 1\n",
    "\n",
    "        else:    \n",
    "            allchars.append(data[i])\n",
    "\n",
    "        i += 1\n",
    "    \n",
    "    return allchars"
   ]
  },
  {
   "cell_type": "markdown",
   "metadata": {},
   "source": [
    "## smiles to char list without '\\n'"
   ]
  },
  {
   "cell_type": "code",
   "execution_count": 7,
   "metadata": {},
   "outputs": [],
   "source": [
    "allchars = precess_smiles_as_charlist(data)\n",
    "chars = set(allchars)"
   ]
  },
  {
   "cell_type": "markdown",
   "metadata": {},
   "source": [
    "## smiles to char list with '\\n'"
   ]
  },
  {
   "cell_type": "code",
   "execution_count": null,
   "metadata": {},
   "outputs": [],
   "source": [
    "allcharswithn = precess_smiles_as_charlist(datawithnextline)"
   ]
  },
  {
   "cell_type": "markdown",
   "metadata": {},
   "source": [
    "### Dicts for char_to_index and index_to_char"
   ]
  },
  {
   "cell_type": "markdown",
   "metadata": {},
   "source": [
    "* Atom: C H O N S P F Cl Br I B c o n s p\n",
    "* bond: . = # : $\n",
    "* electonric: + -\n",
    "* @ \\ /\n",
    "* () []\n",
    "* 1 2 3 4 5 6 7 8 9 %\n",
    "* Other"
   ]
  },
  {
   "cell_type": "code",
   "execution_count": 11,
   "metadata": {},
   "outputs": [
    {
     "name": "stdout",
     "output_type": "stream",
     "text": [
      "{0: '#', 1: '(', 2: ')', 3: '+', 4: '-', 5: '/', 6: '0', 7: '1', 8: '2', 9: '3', 10: '4', 11: '5', 12: '6', 13: '=', 14: '@', 15: 'Br', 16: 'C', 17: 'Cl', 18: 'F', 19: 'H', 20: 'I', 21: 'N', 22: 'O', 23: 'P', 24: 'S', 25: '[', 26: '\\\\', 27: ']', 28: 'c', 29: 'n', 30: 'o', 31: 'p', 32: 's'}\n"
     ]
    }
   ],
   "source": [
    "char_to_ix = { ch:i for i,ch in enumerate(sorted(chars)) }\n",
    "ix_to_char = { i:ch for i,ch in enumerate(sorted(chars)) }\n",
    "print(ix_to_char)\n",
    "#print(char_to_ix)"
   ]
  },
  {
   "cell_type": "markdown",
   "metadata": {},
   "source": [
    "We dont have elements: \n",
    ".  : $ 7 8 9 Other , where '\\\\\\' is '\\'"
   ]
  },
  {
   "cell_type": "markdown",
   "metadata": {},
   "source": [
    "## smiles list"
   ]
  },
  {
   "cell_type": "code",
   "execution_count": 13,
   "metadata": {},
   "outputs": [],
   "source": [
    "allsmilesindexlist = []\n",
    "smileindexlist = []\n",
    "\n",
    "for char in allcharswithn:\n",
    "    \n",
    "    if char != '\\n':\n",
    "        smileindexlist.append(char)\n",
    "    else:\n",
    "        allsmilesindexlist.append(smileindexlist)\n",
    "        smileindexlist = []"
   ]
  },
  {
   "cell_type": "code",
   "execution_count": 14,
   "metadata": {},
   "outputs": [
    {
     "data": {
      "text/plain": [
       "2883246"
      ]
     },
     "execution_count": 14,
     "metadata": {},
     "output_type": "execute_result"
    }
   ],
   "source": [
    "len(allsmilesindexlist)"
   ]
  },
  {
   "cell_type": "code",
   "execution_count": 15,
   "metadata": {
    "scrolled": true
   },
   "outputs": [
    {
     "data": {
      "text/plain": [
       "['S',\n",
       " '(',\n",
       " '[',\n",
       " 'C',\n",
       " '@',\n",
       " '@',\n",
       " 'H',\n",
       " ']',\n",
       " '(',\n",
       " 'C',\n",
       " '(',\n",
       " '=',\n",
       " 'O',\n",
       " ')',\n",
       " 'N',\n",
       " '1',\n",
       " 'C',\n",
       " 'C',\n",
       " 'C',\n",
       " 'C',\n",
       " '1',\n",
       " ')',\n",
       " 'C',\n",
       " ')',\n",
       " 'C',\n",
       " '1',\n",
       " '=',\n",
       " 'N',\n",
       " 'C',\n",
       " '(',\n",
       " '=',\n",
       " 'O',\n",
       " ')',\n",
       " 'c',\n",
       " '2',\n",
       " 'c',\n",
       " '(',\n",
       " 'N',\n",
       " '1',\n",
       " ')',\n",
       " 'c',\n",
       " 'c',\n",
       " 'c',\n",
       " '(',\n",
       " 'F',\n",
       " ')',\n",
       " 'c',\n",
       " '2']"
      ]
     },
     "execution_count": 15,
     "metadata": {},
     "output_type": "execute_result"
    }
   ],
   "source": [
    "allsmilesindexlist[0]"
   ]
  },
  {
   "cell_type": "markdown",
   "metadata": {},
   "source": [
    "## Gensim Word2Vec"
   ]
  },
  {
   "cell_type": "code",
   "execution_count": 63,
   "metadata": {},
   "outputs": [],
   "source": [
    "# sg = 1 -- skip-gram\n",
    "# sg = 0 -- CBOW\n",
    "\n",
    "model = Word2Vec(sentences=allsmilesindexlist, size=200, sg=1, window=8, seed=42, workers=8)"
   ]
  },
  {
   "cell_type": "code",
   "execution_count": 70,
   "metadata": {},
   "outputs": [],
   "source": [
    "model.save(\"mole2vec-gensim-200.h5\")"
   ]
  },
  {
   "cell_type": "code",
   "execution_count": 71,
   "metadata": {},
   "outputs": [],
   "source": [
    "model = Word2Vec.load(\"mole2vec-gensim-200.h5\") "
   ]
  },
  {
   "cell_type": "code",
   "execution_count": 72,
   "metadata": {},
   "outputs": [
    {
     "data": {
      "text/plain": [
       "array([ 3.10500413e-02, -1.09459594e-01, -5.50814718e-02,  8.90447013e-03,\n",
       "       -8.61630887e-02,  1.05193436e-01,  3.58807035e-02, -1.07865676e-01,\n",
       "       -1.14267161e-02, -6.43913075e-02,  4.97403964e-02, -2.39011385e-02,\n",
       "        1.07557058e-01,  4.51775007e-02,  9.14160237e-02, -6.38175458e-02,\n",
       "        4.69371341e-02,  9.59844422e-03,  4.66431975e-02,  3.24045569e-02,\n",
       "       -3.30052041e-02, -2.36238614e-02,  9.90164429e-02,  2.32491959e-02,\n",
       "       -3.46563458e-02,  4.95550111e-02, -3.78869250e-02,  2.47202646e-02,\n",
       "        6.42825942e-03,  3.54076326e-02,  1.01566939e-02, -7.96375517e-03,\n",
       "        2.22159065e-02, -3.99433784e-02,  4.20013405e-02, -8.44628960e-02,\n",
       "       -5.29295951e-02, -4.00129817e-02, -6.43038377e-02, -4.52808961e-02,\n",
       "        1.71076190e-02,  2.26967279e-02, -5.17846737e-03,  1.42330918e-02,\n",
       "        4.57747728e-02, -1.50454324e-03, -3.25138494e-02,  2.44415086e-02,\n",
       "       -5.53570827e-03,  8.26840624e-02,  1.35807684e-02, -9.60453693e-03,\n",
       "        8.85265768e-02, -6.52927011e-02, -8.40801448e-02,  4.28305799e-03,\n",
       "        2.67735291e-02,  2.73110513e-02, -1.16220769e-02,  1.28660602e-02,\n",
       "        2.08877446e-03,  1.03149228e-02,  6.56652125e-03,  3.59870903e-02,\n",
       "       -1.24894254e-01,  1.64397210e-02,  6.78934231e-02,  5.98455481e-02,\n",
       "       -2.15579830e-02,  6.78012371e-02, -7.87069835e-03, -7.52420574e-02,\n",
       "       -4.19066139e-02,  1.55866385e-01,  1.83397874e-01, -3.16571482e-02,\n",
       "        1.81063777e-03,  3.46231870e-02,  1.05470531e-01,  9.42517668e-02,\n",
       "       -3.73886712e-02, -8.82961452e-02, -5.26528843e-02,  9.04504359e-02,\n",
       "       -3.40308659e-02, -4.70122397e-02, -1.81900993e-01, -1.68263800e-02,\n",
       "       -9.45071876e-02, -1.61404654e-01, -2.31314674e-02,  1.27653733e-01,\n",
       "        7.52825886e-02,  3.89056578e-02,  7.47804344e-02,  1.05462119e-01,\n",
       "       -2.52072476e-02, -3.41818556e-02, -3.88994552e-02, -1.57150149e-03,\n",
       "       -1.88425612e-02, -2.91046919e-03, -4.26307768e-02, -1.03635661e-01,\n",
       "        9.35844928e-02, -8.08483828e-03, -1.90868310e-03, -3.46373282e-02,\n",
       "       -4.16084118e-02, -4.60008979e-02, -2.79214419e-02,  5.28608970e-02,\n",
       "        1.24385087e-02, -4.82707471e-02,  6.33440632e-03,  3.51760238e-02,\n",
       "       -2.12165825e-02, -2.22791154e-02,  4.69021574e-02, -6.90954458e-03,\n",
       "       -5.79498038e-02,  5.05948663e-02, -3.11630126e-02, -2.60139117e-04,\n",
       "       -7.45730242e-03,  2.55489219e-02,  9.88438539e-03,  1.19722582e-01,\n",
       "       -8.49568546e-02, -4.49074395e-02,  5.13664968e-02, -9.19280387e-03,\n",
       "        1.21523999e-02, -4.26126495e-02, -3.28770317e-02, -5.08135594e-02,\n",
       "        4.26896922e-02,  2.46247482e-02,  4.26339321e-02,  8.87339264e-02,\n",
       "       -5.86261749e-02, -3.21581364e-02, -2.91021019e-02,  1.01957703e-02,\n",
       "       -9.43544656e-02, -4.23459709e-02,  2.33187247e-02,  7.12902285e-03,\n",
       "        3.30330953e-02,  1.46519933e-02, -1.95037313e-02, -2.39094839e-01,\n",
       "        3.14869247e-02, -3.78598571e-02, -3.05137504e-02,  6.75565526e-02,\n",
       "        4.92628105e-02, -9.70799252e-02,  5.04274853e-02,  4.35804687e-02,\n",
       "        2.76486337e-01, -1.29267797e-01,  2.38471329e-01, -1.21025115e-01,\n",
       "        1.73712701e-01,  1.08005777e-01, -4.37120609e-02, -2.91451160e-02,\n",
       "        2.29333073e-01, -3.07008266e-01,  1.94005501e-02, -2.91411966e-01,\n",
       "       -1.40578851e-01,  1.31202871e-02, -4.24454510e-02, -1.37482047e-01,\n",
       "        5.65912016e-02, -1.86986640e-01, -2.87238434e-02, -8.03007111e-02,\n",
       "        1.48632536e-02,  1.69002011e-01, -9.97722074e-02, -3.96475680e-02,\n",
       "        3.40292275e-01,  6.66644264e-05,  1.87181402e-02,  2.70882815e-01,\n",
       "        2.71880664e-02,  3.22201997e-02,  3.19693349e-02,  1.38765005e-02,\n",
       "        9.46533009e-02, -2.43467838e-01,  9.58044156e-02,  9.54856947e-02,\n",
       "       -1.72312990e-01, -4.35313061e-02,  1.62417606e-01,  1.31320596e-01],\n",
       "      dtype=float32)"
      ]
     },
     "execution_count": 72,
     "metadata": {},
     "output_type": "execute_result"
    }
   ],
   "source": [
    "model.wv['C']"
   ]
  },
  {
   "cell_type": "code",
   "execution_count": 73,
   "metadata": {},
   "outputs": [
    {
     "data": {
      "text/plain": [
       "[(')', 0.7850743532180786),\n",
       " ('C', 0.7666725516319275),\n",
       " ('O', 0.7608593702316284),\n",
       " ('2', 0.7588022351264954),\n",
       " ('Br', 0.7586167454719543),\n",
       " ('c', 0.7585274577140808),\n",
       " ('o', 0.7574266195297241),\n",
       " ('@', 0.7543317079544067),\n",
       " ('N', 0.7541368007659912),\n",
       " ('n', 0.7470812797546387)]"
      ]
     },
     "execution_count": 73,
     "metadata": {},
     "output_type": "execute_result"
    }
   ],
   "source": [
    "model.wv.most_similar_cosmul(positive=['[', ']'], negative=['('])"
   ]
  },
  {
   "cell_type": "code",
   "execution_count": 74,
   "metadata": {},
   "outputs": [
    {
     "data": {
      "text/plain": [
       "0.7343347026411112"
      ]
     },
     "execution_count": 74,
     "metadata": {},
     "output_type": "execute_result"
    }
   ],
   "source": [
    "model.wv.similarity('1', '2')"
   ]
  },
  {
   "cell_type": "code",
   "execution_count": 75,
   "metadata": {},
   "outputs": [
    {
     "data": {
      "text/plain": [
       "0.724086992315808"
      ]
     },
     "execution_count": 75,
     "metadata": {},
     "output_type": "execute_result"
    }
   ],
   "source": [
    "model.wv.similarity('c', 'o')"
   ]
  },
  {
   "cell_type": "code",
   "execution_count": 76,
   "metadata": {},
   "outputs": [
    {
     "data": {
      "text/plain": [
       "0.6215794940273272"
      ]
     },
     "execution_count": 76,
     "metadata": {},
     "output_type": "execute_result"
    }
   ],
   "source": [
    "model.wv.similarity('C', 'O')"
   ]
  },
  {
   "cell_type": "code",
   "execution_count": 77,
   "metadata": {},
   "outputs": [
    {
     "data": {
      "text/plain": [
       "0.49879750699818154"
      ]
     },
     "execution_count": 77,
     "metadata": {},
     "output_type": "execute_result"
    }
   ],
   "source": [
    "model.wv.similarity('+', '-')"
   ]
  },
  {
   "cell_type": "code",
   "execution_count": null,
   "metadata": {},
   "outputs": [],
   "source": []
  }
 ],
 "metadata": {
  "coursera": {
   "course_slug": "nlp-sequence-models",
   "graded_item_id": "1dYg0",
   "launcher_item_id": "MLhxP"
  },
  "kernelspec": {
   "display_name": "Python 3",
   "language": "python",
   "name": "python3"
  },
  "language_info": {
   "codemirror_mode": {
    "name": "ipython",
    "version": 3
   },
   "file_extension": ".py",
   "mimetype": "text/x-python",
   "name": "python",
   "nbconvert_exporter": "python",
   "pygments_lexer": "ipython3",
   "version": "3.6.5"
  }
 },
 "nbformat": 4,
 "nbformat_minor": 2
}
